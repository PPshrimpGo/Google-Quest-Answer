{
 "cells": [
  {
   "cell_type": "code",
   "execution_count": 3,
   "metadata": {},
   "outputs": [
    {
     "name": "stdout",
     "output_type": "stream",
     "text": [
      "matplotlib.get_backend :  TkAgg\n"
     ]
    }
   ],
   "source": [
    "# import os and define graphic card\n",
    "import os\n",
    "os.environ[\"OMP_NUM_THREADS\"] = \"1\"\n",
    "\n",
    "# import common libraries\n",
    "import gc\n",
    "import random\n",
    "import argparse\n",
    "import pandas as pd\n",
    "import numpy as np\n",
    "from functools import partial\n",
    "\n",
    "# import pytorch related libraries\n",
    "import torch\n",
    "import torch.optim as optim\n",
    "from torch.optim import lr_scheduler\n",
    "from torch.optim.optimizer import Optimizer\n",
    "from torch.utils.data import TensorDataset, DataLoader,Dataset\n",
    "from torch.utils.data.sampler import RandomSampler, SequentialSampler\n",
    "from torch.optim.lr_scheduler import StepLR, ReduceLROnPlateau, CosineAnnealingLR, _LRScheduler\n",
    "from tensorboardX import SummaryWriter\n",
    "from pytorch_pretrained_bert.optimization import BertAdam\n",
    "from transformers import get_linear_schedule_with_warmup\n",
    "\n",
    "# import apex for mix precision training\n",
    "from apex import amp\n",
    "from apex.parallel import DistributedDataParallel as DDP\n",
    "from apex.optimizers import FusedAdam\n",
    "\n",
    "# import dataset class\n",
    "from dataset.dataset import *\n",
    "\n",
    "# import utils\n",
    "from utils.ranger import *\n",
    "from utils.lrs_scheduler import * \n",
    "from utils.loss_function import *\n",
    "from utils.metric import *\n",
    "from utils.file import *\n",
    "\n",
    "# import model\n",
    "from model.model_bert import *"
   ]
  },
  {
   "cell_type": "code",
   "execution_count": 4,
   "metadata": {},
   "outputs": [
    {
     "name": "stderr",
     "output_type": "stream",
     "text": [
      "W0127 18:33:32.079421 139937887930112 modeling_utils.py:326] There is currently an upstream reproducibility issue with ALBERT v2 models. Please see https://github.com/google-research/google-research/issues/119 for more information.\n",
      "I0127 18:33:32.231390 139937887930112 file_utils.py:331] https://s3.amazonaws.com/models.huggingface.co/bert/albert-xxlarge-v2-config.json not found in cache or force_download set to True, downloading to /tmp/tmp8gti1egu\n"
     ]
    },
    {
     "data": {
      "application/vnd.jupyter.widget-view+json": {
       "model_id": "c74859ebba6b4fb2b7a4369b13bb39ec",
       "version_major": 2,
       "version_minor": 0
      },
      "text/plain": [
       "HBox(children=(IntProgress(value=0, description='Downloading', max=505, style=ProgressStyle(description_width=…"
      ]
     },
     "metadata": {},
     "output_type": "display_data"
    },
    {
     "name": "stderr",
     "output_type": "stream",
     "text": [
      "I0127 18:33:32.473910 139937887930112 file_utils.py:346] copying /tmp/tmp8gti1egu to cache at /home/jionie/.cache/torch/transformers/b3eed512e24335a76694282193217608ead013caa55330de3ff236d1f5695e6c.98f2df4a57b10458e65046f312a110b53115e56294bb20da7599630d708641dc\n",
      "I0127 18:33:32.474906 139937887930112 file_utils.py:350] creating metadata file for /home/jionie/.cache/torch/transformers/b3eed512e24335a76694282193217608ead013caa55330de3ff236d1f5695e6c.98f2df4a57b10458e65046f312a110b53115e56294bb20da7599630d708641dc\n",
      "I0127 18:33:32.476576 139937887930112 file_utils.py:359] removing temp file /tmp/tmp8gti1egu\n",
      "I0127 18:33:32.477216 139937887930112 configuration_utils.py:160] loading configuration file https://s3.amazonaws.com/models.huggingface.co/bert/albert-xxlarge-v2-config.json from cache at /home/jionie/.cache/torch/transformers/b3eed512e24335a76694282193217608ead013caa55330de3ff236d1f5695e6c.98f2df4a57b10458e65046f312a110b53115e56294bb20da7599630d708641dc\n",
      "I0127 18:33:32.478204 139937887930112 configuration_utils.py:177] Model config {\n",
      "  \"attention_probs_dropout_prob\": 0,\n",
      "  \"down_scale_factor\": 1,\n",
      "  \"embedding_size\": 128,\n",
      "  \"finetuning_task\": null,\n",
      "  \"gap_size\": 0,\n",
      "  \"hidden_act\": \"gelu\",\n",
      "  \"hidden_dropout_prob\": 0.1,\n",
      "  \"hidden_size\": 4096,\n",
      "  \"initializer_range\": 0.02,\n",
      "  \"inner_group_num\": 1,\n",
      "  \"intermediate_size\": 16384,\n",
      "  \"is_decoder\": false,\n",
      "  \"layer_norm_eps\": 1e-12,\n",
      "  \"layers_to_keep\": [],\n",
      "  \"max_position_embeddings\": 512,\n",
      "  \"net_structure_type\": 0,\n",
      "  \"num_attention_heads\": 64,\n",
      "  \"num_hidden_groups\": 1,\n",
      "  \"num_hidden_layers\": 12,\n",
      "  \"num_labels\": 2,\n",
      "  \"num_memory_blocks\": 0,\n",
      "  \"output_attentions\": false,\n",
      "  \"output_hidden_states\": true,\n",
      "  \"output_past\": true,\n",
      "  \"pruned_heads\": {},\n",
      "  \"torchscript\": false,\n",
      "  \"type_vocab_size\": 2,\n",
      "  \"use_bfloat16\": false,\n",
      "  \"vocab_size\": 30000\n",
      "}\n",
      "\n",
      "I0127 18:33:32.630270 139937887930112 file_utils.py:331] https://s3.amazonaws.com/models.huggingface.co/bert/albert-xxlarge-v2-pytorch_model.bin not found in cache or force_download set to True, downloading to /tmp/tmpeybmw8gz\n"
     ]
    },
    {
     "name": "stdout",
     "output_type": "stream",
     "text": [
      "\n"
     ]
    },
    {
     "data": {
      "application/vnd.jupyter.widget-view+json": {
       "model_id": "8a451a75e9cb4b3ebdd9a6c866676e01",
       "version_major": 2,
       "version_minor": 0
      },
      "text/plain": [
       "HBox(children=(IntProgress(value=0, description='Downloading', max=892728632, style=ProgressStyle(description_…"
      ]
     },
     "metadata": {},
     "output_type": "display_data"
    },
    {
     "name": "stderr",
     "output_type": "stream",
     "text": [
      "I0127 18:34:08.535514 139937887930112 file_utils.py:346] copying /tmp/tmpeybmw8gz to cache at /home/jionie/.cache/torch/transformers/c8f990f22da3ddf461b7e0d30a079014b20ad2859f352a9f18421485f63a69e7.9ac42d6fae7d18840d74eaf2a6d817700ffdd5af9ae1a12c3e96e239e23f76f4\n"
     ]
    },
    {
     "name": "stdout",
     "output_type": "stream",
     "text": [
      "\n"
     ]
    },
    {
     "name": "stderr",
     "output_type": "stream",
     "text": [
      "I0127 18:34:09.045233 139937887930112 file_utils.py:350] creating metadata file for /home/jionie/.cache/torch/transformers/c8f990f22da3ddf461b7e0d30a079014b20ad2859f352a9f18421485f63a69e7.9ac42d6fae7d18840d74eaf2a6d817700ffdd5af9ae1a12c3e96e239e23f76f4\n",
      "I0127 18:34:09.045813 139937887930112 file_utils.py:359] removing temp file /tmp/tmpeybmw8gz\n",
      "I0127 18:34:09.114085 139937887930112 modeling_utils.py:401] loading weights file https://s3.amazonaws.com/models.huggingface.co/bert/albert-xxlarge-v2-pytorch_model.bin from cache at /home/jionie/.cache/torch/transformers/c8f990f22da3ddf461b7e0d30a079014b20ad2859f352a9f18421485f63a69e7.9ac42d6fae7d18840d74eaf2a6d817700ffdd5af9ae1a12c3e96e239e23f76f4\n"
     ]
    }
   ],
   "source": [
    "model = QuestNet(model_type=\"albert-xxlarge-v2\", n_classes=30, hidden_layers=[-1, -3, -5, -7, -9])"
   ]
  },
  {
   "cell_type": "code",
   "execution_count": 5,
   "metadata": {},
   "outputs": [
    {
     "data": {
      "text/plain": [
       "QuestNet(\n",
       "  (albert_model): AlbertModel(\n",
       "    (embeddings): AlbertEmbeddings(\n",
       "      (word_embeddings): Embedding(30000, 128, padding_idx=0)\n",
       "      (position_embeddings): Embedding(512, 128)\n",
       "      (token_type_embeddings): Embedding(2, 128)\n",
       "      (LayerNorm): LayerNorm((128,), eps=1e-12, elementwise_affine=True)\n",
       "      (dropout): Dropout(p=0.1, inplace=False)\n",
       "    )\n",
       "    (encoder): AlbertTransformer(\n",
       "      (embedding_hidden_mapping_in): Linear(in_features=128, out_features=4096, bias=True)\n",
       "      (albert_layer_groups): ModuleList(\n",
       "        (0): AlbertLayerGroup(\n",
       "          (albert_layers): ModuleList(\n",
       "            (0): AlbertLayer(\n",
       "              (full_layer_layer_norm): LayerNorm((4096,), eps=1e-12, elementwise_affine=True)\n",
       "              (attention): AlbertAttention(\n",
       "                (query): Linear(in_features=4096, out_features=4096, bias=True)\n",
       "                (key): Linear(in_features=4096, out_features=4096, bias=True)\n",
       "                (value): Linear(in_features=4096, out_features=4096, bias=True)\n",
       "                (dropout): Dropout(p=0, inplace=False)\n",
       "                (dense): Linear(in_features=4096, out_features=4096, bias=True)\n",
       "                (LayerNorm): LayerNorm((4096,), eps=1e-12, elementwise_affine=True)\n",
       "              )\n",
       "              (ffn): Linear(in_features=4096, out_features=16384, bias=True)\n",
       "              (ffn_output): Linear(in_features=16384, out_features=4096, bias=True)\n",
       "            )\n",
       "          )\n",
       "        )\n",
       "      )\n",
       "    )\n",
       "    (pooler): Linear(in_features=4096, out_features=4096, bias=True)\n",
       "    (pooler_activation): Tanh()\n",
       "  )\n",
       "  (fc_1): Linear(in_features=5120, out_features=1024, bias=True)\n",
       "  (fc): Linear(in_features=1024, out_features=30, bias=True)\n",
       "  (selu): SELU()\n",
       "  (relu): ReLU()\n",
       "  (tanh): Tanh()\n",
       "  (dropouts): ModuleList(\n",
       "    (0): Dropout(p=0.5, inplace=False)\n",
       "    (1): Dropout(p=0.5, inplace=False)\n",
       "    (2): Dropout(p=0.5, inplace=False)\n",
       "    (3): Dropout(p=0.5, inplace=False)\n",
       "    (4): Dropout(p=0.5, inplace=False)\n",
       "  )\n",
       ")"
      ]
     },
     "execution_count": 5,
     "metadata": {},
     "output_type": "execute_result"
    }
   ],
   "source": [
    "model.cuda()"
   ]
  },
  {
   "cell_type": "code",
   "execution_count": null,
   "metadata": {},
   "outputs": [],
   "source": []
  }
 ],
 "metadata": {
  "kernelspec": {
   "display_name": "py3env",
   "language": "python",
   "name": "py3env"
  },
  "language_info": {
   "codemirror_mode": {
    "name": "ipython",
    "version": 3
   },
   "file_extension": ".py",
   "mimetype": "text/x-python",
   "name": "python",
   "nbconvert_exporter": "python",
   "pygments_lexer": "ipython3",
   "version": "3.6.8"
  }
 },
 "nbformat": 4,
 "nbformat_minor": 2
}
