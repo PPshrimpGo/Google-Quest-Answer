{
 "cells": [
  {
   "cell_type": "code",
   "execution_count": 1,
   "metadata": {},
   "outputs": [],
   "source": [
    "import pandas as pd\n",
    "import numpy as np\n",
    "import glob"
   ]
  },
  {
   "cell_type": "code",
   "execution_count": 2,
   "metadata": {},
   "outputs": [],
   "source": [
    "train = pd.read_csv('train.csv')"
   ]
  },
  {
   "cell_type": "code",
   "execution_count": 74,
   "metadata": {},
   "outputs": [
    {
     "data": {
      "text/html": [
       "<div>\n",
       "<style scoped>\n",
       "    .dataframe tbody tr th:only-of-type {\n",
       "        vertical-align: middle;\n",
       "    }\n",
       "\n",
       "    .dataframe tbody tr th {\n",
       "        vertical-align: top;\n",
       "    }\n",
       "\n",
       "    .dataframe thead th {\n",
       "        text-align: right;\n",
       "    }\n",
       "</style>\n",
       "<table border=\"1\" class=\"dataframe\">\n",
       "  <thead>\n",
       "    <tr style=\"text-align: right;\">\n",
       "      <th></th>\n",
       "      <th>qa_id</th>\n",
       "      <th>question_title</th>\n",
       "      <th>question_body</th>\n",
       "      <th>question_user_name</th>\n",
       "      <th>question_user_page</th>\n",
       "      <th>answer</th>\n",
       "      <th>answer_user_name</th>\n",
       "      <th>answer_user_page</th>\n",
       "      <th>url</th>\n",
       "      <th>category</th>\n",
       "      <th>...</th>\n",
       "      <th>answer_well_written</th>\n",
       "      <th>a_chinese</th>\n",
       "      <th>t_chinese</th>\n",
       "      <th>b_chinese</th>\n",
       "      <th>a_french</th>\n",
       "      <th>t_french</th>\n",
       "      <th>b_french</th>\n",
       "      <th>a_german</th>\n",
       "      <th>t_german</th>\n",
       "      <th>b_german</th>\n",
       "    </tr>\n",
       "  </thead>\n",
       "  <tbody>\n",
       "    <tr>\n",
       "      <th>6069</th>\n",
       "      <td>9634</td>\n",
       "      <td>What does \"to become controversial\" mean?</td>\n",
       "      <td>As a non-native speaker, I do not fully unders...</td>\n",
       "      <td>Patrick Oscity</td>\n",
       "      <td>https://english.stackexchange.com/users/12804</td>\n",
       "      <td>I would like to expand upon their answers a bi...</td>\n",
       "      <td>Phoenix</td>\n",
       "      <td>https://english.stackexchange.com/users/7328</td>\n",
       "      <td>http://english.stackexchange.com/questions/508...</td>\n",
       "      <td>CULTURE</td>\n",
       "      <td>...</td>\n",
       "      <td>0.777778</td>\n",
       "      <td>5923    I want to expand their answers. Let's ...</td>\n",
       "      <td>What does \"to become controversial\" mean?</td>\n",
       "      <td>As a non-native speaker, I do not fully unders...</td>\n",
       "      <td>I would like to expand upon their answers a bi...</td>\n",
       "      <td>What does \"to become controversial\" mean?</td>\n",
       "      <td>As a non-native speaker, I do not fully unders...</td>\n",
       "      <td>I would like to expand upon their answers a bi...</td>\n",
       "      <td>What does \"to become controversial\" mean?</td>\n",
       "      <td>As a non-native speaker, I do not fully unders...</td>\n",
       "    </tr>\n",
       "    <tr>\n",
       "      <th>6070</th>\n",
       "      <td>9635</td>\n",
       "      <td>How to clip by inidividual polygon shapes rath...</td>\n",
       "      <td>I have a shapefile with overlapping polygons -...</td>\n",
       "      <td>Eileen Nehme</td>\n",
       "      <td>https://gis.stackexchange.com/users/8547</td>\n",
       "      <td>Intersect will  give you (a mess of) output po...</td>\n",
       "      <td>ccn</td>\n",
       "      <td>https://gis.stackexchange.com/users/9217</td>\n",
       "      <td>http://gis.stackexchange.com/questions/28580/h...</td>\n",
       "      <td>TECHNOLOGY</td>\n",
       "      <td>...</td>\n",
       "      <td>1.000000</td>\n",
       "      <td>5924    Intersect will give you (chaos) output...</td>\n",
       "      <td>How to clip by inidividual polygon shapes rath...</td>\n",
       "      <td>I have a shapefile with overlapping polygons -...</td>\n",
       "      <td>Intersect will  give you (a mess of) output po...</td>\n",
       "      <td>How to clip by inidividual polygon shapes rath...</td>\n",
       "      <td>I have a shapefile with overlapping polygons -...</td>\n",
       "      <td>Intersect will  give you (a mess of) output po...</td>\n",
       "      <td>How to clip by inidividual polygon shapes rath...</td>\n",
       "      <td>I have a shapefile with overlapping polygons -...</td>\n",
       "    </tr>\n",
       "    <tr>\n",
       "      <th>6071</th>\n",
       "      <td>9636</td>\n",
       "      <td>Throwing a ball upwards in an accelerating train</td>\n",
       "      <td>If I throw a ball upwards to a certain height ...</td>\n",
       "      <td>user34304</td>\n",
       "      <td>https://physics.stackexchange.com/users/34304</td>\n",
       "      <td>User Sahil Chadha has already answered the que...</td>\n",
       "      <td>joshphysics</td>\n",
       "      <td>https://physics.stackexchange.com/users/19976</td>\n",
       "      <td>http://physics.stackexchange.com/questions/890...</td>\n",
       "      <td>SCIENCE</td>\n",
       "      <td>...</td>\n",
       "      <td>1.000000</td>\n",
       "      <td>5925    User Sahil Chadha has answered this qu...</td>\n",
       "      <td>Throwing a ball upwards in an accelerating train</td>\n",
       "      <td>If I throw a ball upwards to a certain height ...</td>\n",
       "      <td>User Sahil Chadha has already answered the que...</td>\n",
       "      <td>Throwing a ball upwards in an accelerating train</td>\n",
       "      <td>If I throw a ball upwards to a certain height ...</td>\n",
       "      <td>User Sahil Chadha has already answered the que...</td>\n",
       "      <td>Throwing a ball upwards in an accelerating train</td>\n",
       "      <td>If I throw a ball upwards to a certain height ...</td>\n",
       "    </tr>\n",
       "    <tr>\n",
       "      <th>6072</th>\n",
       "      <td>9638</td>\n",
       "      <td>php escape sequence not working</td>\n",
       "      <td>I just want to echo out some text on the webpa...</td>\n",
       "      <td>user3437460</td>\n",
       "      <td>https://stackoverflow.com/users/3437460</td>\n",
       "      <td>Try This:\\n\\n&amp;lt;pre&amp;gt;&amp;lt;?php\\n   echo \"\\t\\...</td>\n",
       "      <td>Nicholas Summers</td>\n",
       "      <td>https://stackoverflow.com/users/3511423</td>\n",
       "      <td>http://stackoverflow.com/questions/27111279/ph...</td>\n",
       "      <td>STACKOVERFLOW</td>\n",
       "      <td>...</td>\n",
       "      <td>1.000000</td>\n",
       "      <td>5926    Try this: &amp; lt; pre &amp; gt; &amp; lt ;? phpe...</td>\n",
       "      <td>php escape sequence not working</td>\n",
       "      <td>I just want to echo out some text on the webpa...</td>\n",
       "      <td>Try This:\\n\\n&amp;lt;pre&amp;gt;&amp;lt;?php\\n   echo \"\\t\\...</td>\n",
       "      <td>php escape sequence not working</td>\n",
       "      <td>I just want to echo out some text on the webpa...</td>\n",
       "      <td>Try This:\\n\\n&amp;lt;pre&amp;gt;&amp;lt;?php\\n   echo \"\\t\\...</td>\n",
       "      <td>php escape sequence not working</td>\n",
       "      <td>I just want to echo out some text on the webpa...</td>\n",
       "    </tr>\n",
       "    <tr>\n",
       "      <th>6073</th>\n",
       "      <td>9641</td>\n",
       "      <td>PHP EDI X12 Parsing</td>\n",
       "      <td>I have a project to implement an EDI solution ...</td>\n",
       "      <td>etriad</td>\n",
       "      <td>https://stackoverflow.com/users/625639</td>\n",
       "      <td>I was looking for something like that for .NET...</td>\n",
       "      <td>Aleksandar Vucetic</td>\n",
       "      <td>https://stackoverflow.com/users/45725</td>\n",
       "      <td>http://stackoverflow.com/questions/8860232/php...</td>\n",
       "      <td>STACKOVERFLOW</td>\n",
       "      <td>...</td>\n",
       "      <td>0.888889</td>\n",
       "      <td>5927    I've been looking for something simila...</td>\n",
       "      <td>PHP EDI X12 Parsing</td>\n",
       "      <td>I have a project to implement an EDI solution ...</td>\n",
       "      <td>I was looking for something like that for .NET...</td>\n",
       "      <td>PHP EDI X12 Parsing</td>\n",
       "      <td>I have a project to implement an EDI solution ...</td>\n",
       "      <td>I was looking for something like that for .NET...</td>\n",
       "      <td>PHP EDI X12 Parsing</td>\n",
       "      <td>I have a project to implement an EDI solution ...</td>\n",
       "    </tr>\n",
       "    <tr>\n",
       "      <th>6074</th>\n",
       "      <td>9642</td>\n",
       "      <td>Using a ski helmet for winter biking</td>\n",
       "      <td>I am curious if anyone uses a skiing helmet fo...</td>\n",
       "      <td>sixtyfootersdude</td>\n",
       "      <td>https://bicycles.stackexchange.com/users/134</td>\n",
       "      <td>If you're thinking about wearing a ski helmet ...</td>\n",
       "      <td>Matt Leo</td>\n",
       "      <td>https://bicycles.stackexchange.com/users/3340</td>\n",
       "      <td>http://bicycles.stackexchange.com/questions/99...</td>\n",
       "      <td>CULTURE</td>\n",
       "      <td>...</td>\n",
       "      <td>0.888889</td>\n",
       "      <td>5928    If you want to ride a ski helmet, the ...</td>\n",
       "      <td>Using a ski helmet for winter biking</td>\n",
       "      <td>I am curious if anyone uses a skiing helmet fo...</td>\n",
       "      <td>If you're thinking about wearing a ski helmet ...</td>\n",
       "      <td>Using a ski helmet for winter biking</td>\n",
       "      <td>I am curious if anyone uses a skiing helmet fo...</td>\n",
       "      <td>If you're thinking about wearing a ski helmet ...</td>\n",
       "      <td>Using a ski helmet for winter biking</td>\n",
       "      <td>I am curious if anyone uses a skiing helmet fo...</td>\n",
       "    </tr>\n",
       "    <tr>\n",
       "      <th>6075</th>\n",
       "      <td>9643</td>\n",
       "      <td>Adjustment to road bike brakes for high grade ...</td>\n",
       "      <td>I have a road bike with a front brake that wea...</td>\n",
       "      <td>ash</td>\n",
       "      <td>https://bicycles.stackexchange.com/users/14519</td>\n",
       "      <td>\\nYou can replace the pads (as stated elsewher...</td>\n",
       "      <td>Daniel R Hicks</td>\n",
       "      <td>https://bicycles.stackexchange.com/users/1584</td>\n",
       "      <td>http://bicycles.stackexchange.com/questions/25...</td>\n",
       "      <td>CULTURE</td>\n",
       "      <td>...</td>\n",
       "      <td>0.888889</td>\n",
       "      <td>\\nYou can replace the pads (as stated elsewher...</td>\n",
       "      <td>Adjustment to road bike brakes for high grade ...</td>\n",
       "      <td>I have a road bike with a front brake that wea...</td>\n",
       "      <td>\\nYou can replace the pads (as stated elsewher...</td>\n",
       "      <td>Adjustment to road bike brakes for high grade ...</td>\n",
       "      <td>I have a road bike with a front brake that wea...</td>\n",
       "      <td>\\nYou can replace the pads (as stated elsewher...</td>\n",
       "      <td>Adjustment to road bike brakes for high grade ...</td>\n",
       "      <td>I have a road bike with a front brake that wea...</td>\n",
       "    </tr>\n",
       "    <tr>\n",
       "      <th>6076</th>\n",
       "      <td>9645</td>\n",
       "      <td>Suppress 'file truncated' messages when using ...</td>\n",
       "      <td>I'm tailing a log file using tail -f messages....</td>\n",
       "      <td>Maneating Koala</td>\n",
       "      <td>https://unix.stackexchange.com/users/60445</td>\n",
       "      <td>Maybe help if can be fixes origin of this erro...</td>\n",
       "      <td>BG Bruno</td>\n",
       "      <td>https://unix.stackexchange.com/users/68208</td>\n",
       "      <td>http://unix.stackexchange.com/questions/169054...</td>\n",
       "      <td>TECHNOLOGY</td>\n",
       "      <td>...</td>\n",
       "      <td>0.555556</td>\n",
       "      <td>5929    Perhaps the root cause of this error c...</td>\n",
       "      <td>Suppress 'file truncated' messages when using ...</td>\n",
       "      <td>I'm tailing a log file using tail -f messages....</td>\n",
       "      <td>Maybe help if can be fixes origin of this erro...</td>\n",
       "      <td>Suppress 'file truncated' messages when using ...</td>\n",
       "      <td>I'm tailing a log file using tail -f messages....</td>\n",
       "      <td>Maybe help if can be fixes origin of this erro...</td>\n",
       "      <td>Suppress 'file truncated' messages when using ...</td>\n",
       "      <td>I'm tailing a log file using tail -f messages....</td>\n",
       "    </tr>\n",
       "    <tr>\n",
       "      <th>6077</th>\n",
       "      <td>9646</td>\n",
       "      <td>When should a supervisor be a co-author?</td>\n",
       "      <td>What are people's views on this?  To be specif...</td>\n",
       "      <td>MrB</td>\n",
       "      <td>https://mathoverflow.net/users/2189</td>\n",
       "      <td>As a non-mathematician, I am somewhat mystifie...</td>\n",
       "      <td>angela</td>\n",
       "      <td>https://mathoverflow.net/users/4267</td>\n",
       "      <td>http://mathoverflow.net/questions/57337</td>\n",
       "      <td>SCIENCE</td>\n",
       "      <td>...</td>\n",
       "      <td>1.000000</td>\n",
       "      <td>5930    As a non-mathematician, I understand t...</td>\n",
       "      <td>When should a supervisor be a co-author?</td>\n",
       "      <td>What are people's views on this?  To be specif...</td>\n",
       "      <td>As a non-mathematician, I am somewhat mystifie...</td>\n",
       "      <td>When should a supervisor be a co-author?</td>\n",
       "      <td>What are people's views on this?  To be specif...</td>\n",
       "      <td>As a non-mathematician, I am somewhat mystifie...</td>\n",
       "      <td>When should a supervisor be a co-author?</td>\n",
       "      <td>What are people's views on this?  To be specif...</td>\n",
       "    </tr>\n",
       "    <tr>\n",
       "      <th>6078</th>\n",
       "      <td>9647</td>\n",
       "      <td>Why are there so many different types of screw...</td>\n",
       "      <td>Newbie question.\\n\\nWhy is it that there's a b...</td>\n",
       "      <td>Doug T.</td>\n",
       "      <td>https://diy.stackexchange.com/users/321</td>\n",
       "      <td>First, I really like Eric's answer for practic...</td>\n",
       "      <td>Scivitri</td>\n",
       "      <td>https://diy.stackexchange.com/users/113</td>\n",
       "      <td>http://diy.stackexchange.com/questions/2701/wh...</td>\n",
       "      <td>LIFE_ARTS</td>\n",
       "      <td>...</td>\n",
       "      <td>1.000000</td>\n",
       "      <td>5931    First, for practical reasons, I really...</td>\n",
       "      <td>Why are there so many different types of screw...</td>\n",
       "      <td>Newbie question.\\n\\nWhy is it that there's a b...</td>\n",
       "      <td>First, I really like Eric's answer for practic...</td>\n",
       "      <td>Why are there so many different types of screw...</td>\n",
       "      <td>Newbie question.\\n\\nWhy is it that there's a b...</td>\n",
       "      <td>First, I really like Eric's answer for practic...</td>\n",
       "      <td>Why are there so many different types of screw...</td>\n",
       "      <td>Newbie question.\\n\\nWhy is it that there's a b...</td>\n",
       "    </tr>\n",
       "  </tbody>\n",
       "</table>\n",
       "<p>10 rows × 50 columns</p>\n",
       "</div>"
      ],
      "text/plain": [
       "      qa_id                                     question_title  \\\n",
       "6069   9634          What does \"to become controversial\" mean?   \n",
       "6070   9635  How to clip by inidividual polygon shapes rath...   \n",
       "6071   9636   Throwing a ball upwards in an accelerating train   \n",
       "6072   9638                    php escape sequence not working   \n",
       "6073   9641                                PHP EDI X12 Parsing   \n",
       "6074   9642               Using a ski helmet for winter biking   \n",
       "6075   9643  Adjustment to road bike brakes for high grade ...   \n",
       "6076   9645  Suppress 'file truncated' messages when using ...   \n",
       "6077   9646           When should a supervisor be a co-author?   \n",
       "6078   9647  Why are there so many different types of screw...   \n",
       "\n",
       "                                          question_body question_user_name  \\\n",
       "6069  As a non-native speaker, I do not fully unders...     Patrick Oscity   \n",
       "6070  I have a shapefile with overlapping polygons -...       Eileen Nehme   \n",
       "6071  If I throw a ball upwards to a certain height ...          user34304   \n",
       "6072  I just want to echo out some text on the webpa...        user3437460   \n",
       "6073  I have a project to implement an EDI solution ...             etriad   \n",
       "6074  I am curious if anyone uses a skiing helmet fo...   sixtyfootersdude   \n",
       "6075  I have a road bike with a front brake that wea...                ash   \n",
       "6076  I'm tailing a log file using tail -f messages....    Maneating Koala   \n",
       "6077  What are people's views on this?  To be specif...                MrB   \n",
       "6078  Newbie question.\\n\\nWhy is it that there's a b...            Doug T.   \n",
       "\n",
       "                                  question_user_page  \\\n",
       "6069   https://english.stackexchange.com/users/12804   \n",
       "6070        https://gis.stackexchange.com/users/8547   \n",
       "6071   https://physics.stackexchange.com/users/34304   \n",
       "6072         https://stackoverflow.com/users/3437460   \n",
       "6073          https://stackoverflow.com/users/625639   \n",
       "6074    https://bicycles.stackexchange.com/users/134   \n",
       "6075  https://bicycles.stackexchange.com/users/14519   \n",
       "6076      https://unix.stackexchange.com/users/60445   \n",
       "6077             https://mathoverflow.net/users/2189   \n",
       "6078         https://diy.stackexchange.com/users/321   \n",
       "\n",
       "                                                 answer    answer_user_name  \\\n",
       "6069  I would like to expand upon their answers a bi...             Phoenix   \n",
       "6070  Intersect will  give you (a mess of) output po...                 ccn   \n",
       "6071  User Sahil Chadha has already answered the que...         joshphysics   \n",
       "6072  Try This:\\n\\n&lt;pre&gt;&lt;?php\\n   echo \"\\t\\...    Nicholas Summers   \n",
       "6073  I was looking for something like that for .NET...  Aleksandar Vucetic   \n",
       "6074  If you're thinking about wearing a ski helmet ...            Matt Leo   \n",
       "6075  \\nYou can replace the pads (as stated elsewher...      Daniel R Hicks   \n",
       "6076  Maybe help if can be fixes origin of this erro...            BG Bruno   \n",
       "6077  As a non-mathematician, I am somewhat mystifie...              angela   \n",
       "6078  First, I really like Eric's answer for practic...            Scivitri   \n",
       "\n",
       "                                   answer_user_page  \\\n",
       "6069   https://english.stackexchange.com/users/7328   \n",
       "6070       https://gis.stackexchange.com/users/9217   \n",
       "6071  https://physics.stackexchange.com/users/19976   \n",
       "6072        https://stackoverflow.com/users/3511423   \n",
       "6073          https://stackoverflow.com/users/45725   \n",
       "6074  https://bicycles.stackexchange.com/users/3340   \n",
       "6075  https://bicycles.stackexchange.com/users/1584   \n",
       "6076     https://unix.stackexchange.com/users/68208   \n",
       "6077            https://mathoverflow.net/users/4267   \n",
       "6078        https://diy.stackexchange.com/users/113   \n",
       "\n",
       "                                                    url       category  ...  \\\n",
       "6069  http://english.stackexchange.com/questions/508...        CULTURE  ...   \n",
       "6070  http://gis.stackexchange.com/questions/28580/h...     TECHNOLOGY  ...   \n",
       "6071  http://physics.stackexchange.com/questions/890...        SCIENCE  ...   \n",
       "6072  http://stackoverflow.com/questions/27111279/ph...  STACKOVERFLOW  ...   \n",
       "6073  http://stackoverflow.com/questions/8860232/php...  STACKOVERFLOW  ...   \n",
       "6074  http://bicycles.stackexchange.com/questions/99...        CULTURE  ...   \n",
       "6075  http://bicycles.stackexchange.com/questions/25...        CULTURE  ...   \n",
       "6076  http://unix.stackexchange.com/questions/169054...     TECHNOLOGY  ...   \n",
       "6077            http://mathoverflow.net/questions/57337        SCIENCE  ...   \n",
       "6078  http://diy.stackexchange.com/questions/2701/wh...      LIFE_ARTS  ...   \n",
       "\n",
       "     answer_well_written                                          a_chinese  \\\n",
       "6069            0.777778  5923    I want to expand their answers. Let's ...   \n",
       "6070            1.000000  5924    Intersect will give you (chaos) output...   \n",
       "6071            1.000000  5925    User Sahil Chadha has answered this qu...   \n",
       "6072            1.000000  5926    Try this: & lt; pre & gt; & lt ;? phpe...   \n",
       "6073            0.888889  5927    I've been looking for something simila...   \n",
       "6074            0.888889  5928    If you want to ride a ski helmet, the ...   \n",
       "6075            0.888889  \\nYou can replace the pads (as stated elsewher...   \n",
       "6076            0.555556  5929    Perhaps the root cause of this error c...   \n",
       "6077            1.000000  5930    As a non-mathematician, I understand t...   \n",
       "6078            1.000000  5931    First, for practical reasons, I really...   \n",
       "\n",
       "                                              t_chinese  \\\n",
       "6069          What does \"to become controversial\" mean?   \n",
       "6070  How to clip by inidividual polygon shapes rath...   \n",
       "6071   Throwing a ball upwards in an accelerating train   \n",
       "6072                    php escape sequence not working   \n",
       "6073                                PHP EDI X12 Parsing   \n",
       "6074               Using a ski helmet for winter biking   \n",
       "6075  Adjustment to road bike brakes for high grade ...   \n",
       "6076  Suppress 'file truncated' messages when using ...   \n",
       "6077           When should a supervisor be a co-author?   \n",
       "6078  Why are there so many different types of screw...   \n",
       "\n",
       "                                              b_chinese  \\\n",
       "6069  As a non-native speaker, I do not fully unders...   \n",
       "6070  I have a shapefile with overlapping polygons -...   \n",
       "6071  If I throw a ball upwards to a certain height ...   \n",
       "6072  I just want to echo out some text on the webpa...   \n",
       "6073  I have a project to implement an EDI solution ...   \n",
       "6074  I am curious if anyone uses a skiing helmet fo...   \n",
       "6075  I have a road bike with a front brake that wea...   \n",
       "6076  I'm tailing a log file using tail -f messages....   \n",
       "6077  What are people's views on this?  To be specif...   \n",
       "6078  Newbie question.\\n\\nWhy is it that there's a b...   \n",
       "\n",
       "                                               a_french  \\\n",
       "6069  I would like to expand upon their answers a bi...   \n",
       "6070  Intersect will  give you (a mess of) output po...   \n",
       "6071  User Sahil Chadha has already answered the que...   \n",
       "6072  Try This:\\n\\n&lt;pre&gt;&lt;?php\\n   echo \"\\t\\...   \n",
       "6073  I was looking for something like that for .NET...   \n",
       "6074  If you're thinking about wearing a ski helmet ...   \n",
       "6075  \\nYou can replace the pads (as stated elsewher...   \n",
       "6076  Maybe help if can be fixes origin of this erro...   \n",
       "6077  As a non-mathematician, I am somewhat mystifie...   \n",
       "6078  First, I really like Eric's answer for practic...   \n",
       "\n",
       "                                               t_french  \\\n",
       "6069          What does \"to become controversial\" mean?   \n",
       "6070  How to clip by inidividual polygon shapes rath...   \n",
       "6071   Throwing a ball upwards in an accelerating train   \n",
       "6072                    php escape sequence not working   \n",
       "6073                                PHP EDI X12 Parsing   \n",
       "6074               Using a ski helmet for winter biking   \n",
       "6075  Adjustment to road bike brakes for high grade ...   \n",
       "6076  Suppress 'file truncated' messages when using ...   \n",
       "6077           When should a supervisor be a co-author?   \n",
       "6078  Why are there so many different types of screw...   \n",
       "\n",
       "                                               b_french  \\\n",
       "6069  As a non-native speaker, I do not fully unders...   \n",
       "6070  I have a shapefile with overlapping polygons -...   \n",
       "6071  If I throw a ball upwards to a certain height ...   \n",
       "6072  I just want to echo out some text on the webpa...   \n",
       "6073  I have a project to implement an EDI solution ...   \n",
       "6074  I am curious if anyone uses a skiing helmet fo...   \n",
       "6075  I have a road bike with a front brake that wea...   \n",
       "6076  I'm tailing a log file using tail -f messages....   \n",
       "6077  What are people's views on this?  To be specif...   \n",
       "6078  Newbie question.\\n\\nWhy is it that there's a b...   \n",
       "\n",
       "                                               a_german  \\\n",
       "6069  I would like to expand upon their answers a bi...   \n",
       "6070  Intersect will  give you (a mess of) output po...   \n",
       "6071  User Sahil Chadha has already answered the que...   \n",
       "6072  Try This:\\n\\n&lt;pre&gt;&lt;?php\\n   echo \"\\t\\...   \n",
       "6073  I was looking for something like that for .NET...   \n",
       "6074  If you're thinking about wearing a ski helmet ...   \n",
       "6075  \\nYou can replace the pads (as stated elsewher...   \n",
       "6076  Maybe help if can be fixes origin of this erro...   \n",
       "6077  As a non-mathematician, I am somewhat mystifie...   \n",
       "6078  First, I really like Eric's answer for practic...   \n",
       "\n",
       "                                               t_german  \\\n",
       "6069          What does \"to become controversial\" mean?   \n",
       "6070  How to clip by inidividual polygon shapes rath...   \n",
       "6071   Throwing a ball upwards in an accelerating train   \n",
       "6072                    php escape sequence not working   \n",
       "6073                                PHP EDI X12 Parsing   \n",
       "6074               Using a ski helmet for winter biking   \n",
       "6075  Adjustment to road bike brakes for high grade ...   \n",
       "6076  Suppress 'file truncated' messages when using ...   \n",
       "6077           When should a supervisor be a co-author?   \n",
       "6078  Why are there so many different types of screw...   \n",
       "\n",
       "                                               b_german  \n",
       "6069  As a non-native speaker, I do not fully unders...  \n",
       "6070  I have a shapefile with overlapping polygons -...  \n",
       "6071  If I throw a ball upwards to a certain height ...  \n",
       "6072  I just want to echo out some text on the webpa...  \n",
       "6073  I have a project to implement an EDI solution ...  \n",
       "6074  I am curious if anyone uses a skiing helmet fo...  \n",
       "6075  I have a road bike with a front brake that wea...  \n",
       "6076  I'm tailing a log file using tail -f messages....  \n",
       "6077  What are people's views on this?  To be specif...  \n",
       "6078  Newbie question.\\n\\nWhy is it that there's a b...  \n",
       "\n",
       "[10 rows x 50 columns]"
      ]
     },
     "execution_count": 74,
     "metadata": {},
     "output_type": "execute_result"
    }
   ],
   "source": [
    "train.iloc[-10:]"
   ]
  },
  {
   "cell_type": "code",
   "execution_count": 4,
   "metadata": {},
   "outputs": [],
   "source": [
    "xls_files = glob.glob('*.xlsx')"
   ]
  },
  {
   "cell_type": "code",
   "execution_count": 5,
   "metadata": {},
   "outputs": [
    {
     "data": {
      "text/plain": [
       "['train_answer_from_french.xlsx',\n",
       " 'train_title_from_german.xlsx',\n",
       " 'train_body_from_french.xlsx',\n",
       " 'train_body_from_chinese.xlsx',\n",
       " 'train_title_from_french.xlsx',\n",
       " 'train_body_from_german.xlsx',\n",
       " 'train_title_from_chinese.xlsx',\n",
       " 'train_answer_from_german.xlsx',\n",
       " 'train_answer_from_chinese.xlsx']"
      ]
     },
     "execution_count": 5,
     "metadata": {},
     "output_type": "execute_result"
    }
   ],
   "source": [
    "xls_files"
   ]
  },
  {
   "cell_type": "code",
   "execution_count": 10,
   "metadata": {},
   "outputs": [],
   "source": [
    "train['a_chinese'] = train['answer']\n",
    "train['t_chinese'] = train['question_title']\n",
    "train['b_chinese'] = train['question_body']\n",
    "train['a_french'] = train['answer']\n",
    "train['t_french'] = train['question_title']\n",
    "train['b_french'] = train['question_body']\n",
    "train['a_german'] = train['answer']\n",
    "train['t_german'] = train['question_title']\n",
    "train['b_german'] = train['question_body']"
   ]
  },
  {
   "cell_type": "code",
   "execution_count": 11,
   "metadata": {},
   "outputs": [
    {
     "data": {
      "text/plain": [
       "(6079, 50)"
      ]
     },
     "execution_count": 11,
     "metadata": {},
     "output_type": "execute_result"
    }
   ],
   "source": [
    "train.shape"
   ]
  },
  {
   "cell_type": "code",
   "execution_count": 40,
   "metadata": {},
   "outputs": [],
   "source": [
    "a_chinese = pd.read_excel('train_answer_from_chinese.xlsx')"
   ]
  },
  {
   "cell_type": "code",
   "execution_count": 41,
   "metadata": {},
   "outputs": [],
   "source": [
    "def check(a_chinese, index = 'index'):\n",
    "    for i in range(a_chinese.shape[0]):\n",
    "        try:\n",
    "            int(a_chinese[index].iloc[i])\n",
    "        except:\n",
    "            print(i)"
   ]
  },
  {
   "cell_type": "code",
   "execution_count": 42,
   "metadata": {},
   "outputs": [
    {
     "name": "stdout",
     "output_type": "stream",
     "text": [
      "5932\n",
      "5933\n",
      "5934\n",
      "5935\n"
     ]
    }
   ],
   "source": [
    "check(a_chinese)"
   ]
  },
  {
   "cell_type": "code",
   "execution_count": 34,
   "metadata": {},
   "outputs": [],
   "source": [
    "a_chinese = pd.read_excel('train_answer_from_chinese.xlsx')[:5932]"
   ]
  },
  {
   "cell_type": "code",
   "execution_count": 30,
   "metadata": {},
   "outputs": [],
   "source": [
    "index = list(a_chinese['index'])"
   ]
  },
  {
   "cell_type": "code",
   "execution_count": 33,
   "metadata": {},
   "outputs": [
    {
     "name": "stderr",
     "output_type": "stream",
     "text": [
      "/home/leon/anaconda3/envs/leon/lib/python3.7/site-packages/ipykernel_launcher.py:2: SettingWithCopyWarning: \n",
      "A value is trying to be set on a copy of a slice from a DataFrame\n",
      "\n",
      "See the caveats in the documentation: http://pandas.pydata.org/pandas-docs/stable/user_guide/indexing.html#returning-a-view-versus-a-copy\n",
      "  \n"
     ]
    }
   ],
   "source": [
    "for i in index:\n",
    "    train['a_chinese'][int(i)] = a_chinese['answer'][a_chinese['index']==int(i)]"
   ]
  },
  {
   "cell_type": "code",
   "execution_count": 35,
   "metadata": {},
   "outputs": [],
   "source": [
    "t_chinese = pd.read_excel('train_title_from_chinese.xlsx')"
   ]
  },
  {
   "cell_type": "code",
   "execution_count": 72,
   "metadata": {
    "scrolled": true
   },
   "outputs": [
    {
     "data": {
      "text/plain": [
       "(6078, 2)"
      ]
     },
     "execution_count": 72,
     "metadata": {},
     "output_type": "execute_result"
    }
   ],
   "source": [
    "t_chinese.shape"
   ]
  },
  {
   "cell_type": "code",
   "execution_count": 75,
   "metadata": {},
   "outputs": [],
   "source": [
    "train['t_chinese'] = t_chinese['question_title']"
   ]
  },
  {
   "cell_type": "code",
   "execution_count": 76,
   "metadata": {},
   "outputs": [],
   "source": [
    "b_chinese = pd.read_excel('train_body_from_chinese.xlsx')"
   ]
  },
  {
   "cell_type": "code",
   "execution_count": 83,
   "metadata": {},
   "outputs": [
    {
     "data": {
      "text/html": [
       "<div>\n",
       "<style scoped>\n",
       "    .dataframe tbody tr th:only-of-type {\n",
       "        vertical-align: middle;\n",
       "    }\n",
       "\n",
       "    .dataframe tbody tr th {\n",
       "        vertical-align: top;\n",
       "    }\n",
       "\n",
       "    .dataframe thead th {\n",
       "        text-align: right;\n",
       "    }\n",
       "</style>\n",
       "<table border=\"1\" class=\"dataframe\">\n",
       "  <thead>\n",
       "    <tr style=\"text-align: right;\">\n",
       "      <th></th>\n",
       "      <th>index</th>\n",
       "      <th>question_body</th>\n",
       "    </tr>\n",
       "  </thead>\n",
       "  <tbody>\n",
       "    <tr>\n",
       "      <th>0</th>\n",
       "      <td>0</td>\n",
       "      <td>After playing great value macro photography (r...</td>\n",
       "    </tr>\n",
       "    <tr>\n",
       "      <th>1</th>\n",
       "      <td>1</td>\n",
       "      <td>I'm trying to understand where the spam value ...</td>\n",
       "    </tr>\n",
       "    <tr>\n",
       "      <th>2</th>\n",
       "      <td>2</td>\n",
       "      <td>I am working on a PCB with through-hole compon...</td>\n",
       "    </tr>\n",
       "    <tr>\n",
       "      <th>3</th>\n",
       "      <td>3</td>\n",
       "      <td>As far as I know, the affidavit is basically a...</td>\n",
       "    </tr>\n",
       "    <tr>\n",
       "      <th>4</th>\n",
       "      <td>4</td>\n",
       "      <td>I am trying to make a binary image. Not only d...</td>\n",
       "    </tr>\n",
       "  </tbody>\n",
       "</table>\n",
       "</div>"
      ],
      "text/plain": [
       "  index                                      question_body\n",
       "0     0  After playing great value macro photography (r...\n",
       "1     1  I'm trying to understand where the spam value ...\n",
       "2     2  I am working on a PCB with through-hole compon...\n",
       "3     3  As far as I know, the affidavit is basically a...\n",
       "4     4  I am trying to make a binary image. Not only d..."
      ]
     },
     "execution_count": 83,
     "metadata": {},
     "output_type": "execute_result"
    }
   ],
   "source": [
    "b_chinese.head()"
   ]
  },
  {
   "cell_type": "code",
   "execution_count": 80,
   "metadata": {},
   "outputs": [
    {
     "name": "stdout",
     "output_type": "stream",
     "text": [
      "5955\n",
      "5956\n",
      "5957\n",
      "5958\n"
     ]
    }
   ],
   "source": [
    "check(b_chinese)"
   ]
  },
  {
   "cell_type": "code",
   "execution_count": 81,
   "metadata": {},
   "outputs": [],
   "source": [
    "b_chinese = pd.read_excel('train_body_from_chinese.xlsx')[:5955]"
   ]
  },
  {
   "cell_type": "code",
   "execution_count": 82,
   "metadata": {},
   "outputs": [],
   "source": [
    "index = list(b_chinese['index'])"
   ]
  },
  {
   "cell_type": "code",
   "execution_count": 85,
   "metadata": {},
   "outputs": [
    {
     "name": "stderr",
     "output_type": "stream",
     "text": [
      "/home/leon/anaconda3/envs/leon/lib/python3.7/site-packages/ipykernel_launcher.py:2: SettingWithCopyWarning: \n",
      "A value is trying to be set on a copy of a slice from a DataFrame\n",
      "\n",
      "See the caveats in the documentation: http://pandas.pydata.org/pandas-docs/stable/user_guide/indexing.html#returning-a-view-versus-a-copy\n",
      "  \n"
     ]
    }
   ],
   "source": [
    "for i in index:\n",
    "    train['b_chinese'][int(i)] = b_chinese['question_body'][b_chinese['index']==int(i)]"
   ]
  },
  {
   "cell_type": "code",
   "execution_count": 86,
   "metadata": {},
   "outputs": [],
   "source": [
    "a_french = pd.read_excel('train_answer_from_french.xlsx')"
   ]
  },
  {
   "cell_type": "code",
   "execution_count": 88,
   "metadata": {},
   "outputs": [
    {
     "name": "stdout",
     "output_type": "stream",
     "text": [
      "488\n",
      "1925\n"
     ]
    }
   ],
   "source": [
    "check(a_french)"
   ]
  },
  {
   "cell_type": "code",
   "execution_count": 89,
   "metadata": {},
   "outputs": [
    {
     "data": {
      "text/html": [
       "<div>\n",
       "<style scoped>\n",
       "    .dataframe tbody tr th:only-of-type {\n",
       "        vertical-align: middle;\n",
       "    }\n",
       "\n",
       "    .dataframe tbody tr th {\n",
       "        vertical-align: top;\n",
       "    }\n",
       "\n",
       "    .dataframe thead th {\n",
       "        text-align: right;\n",
       "    }\n",
       "</style>\n",
       "<table border=\"1\" class=\"dataframe\">\n",
       "  <thead>\n",
       "    <tr style=\"text-align: right;\">\n",
       "      <th></th>\n",
       "      <th>index</th>\n",
       "      <th>answer</th>\n",
       "    </tr>\n",
       "  </thead>\n",
       "  <tbody>\n",
       "    <tr>\n",
       "      <th>487</th>\n",
       "      <td>496</td>\n",
       "      <td>find ./* -maxdepth 0 -type d -exec bash -c 'ec...</td>\n",
       "    </tr>\n",
       "    <tr>\n",
       "      <th>488</th>\n",
       "      <td>four hundred ninety seven</td>\n",
       "      <td>In SQL Server, if you want to get a result in ...</td>\n",
       "    </tr>\n",
       "  </tbody>\n",
       "</table>\n",
       "</div>"
      ],
      "text/plain": [
       "                         index  \\\n",
       "487                        496   \n",
       "488  four hundred ninety seven   \n",
       "\n",
       "                                                answer  \n",
       "487  find ./* -maxdepth 0 -type d -exec bash -c 'ec...  \n",
       "488  In SQL Server, if you want to get a result in ...  "
      ]
     },
     "execution_count": 89,
     "metadata": {},
     "output_type": "execute_result"
    }
   ],
   "source": [
    "a_french.iloc[487:489]"
   ]
  },
  {
   "cell_type": "code",
   "execution_count": 92,
   "metadata": {},
   "outputs": [],
   "source": [
    "a_french = a_french.drop([488, 1925])"
   ]
  },
  {
   "cell_type": "code",
   "execution_count": 93,
   "metadata": {},
   "outputs": [
    {
     "name": "stderr",
     "output_type": "stream",
     "text": [
      "/home/leon/anaconda3/envs/leon/lib/python3.7/site-packages/ipykernel_launcher.py:3: SettingWithCopyWarning: \n",
      "A value is trying to be set on a copy of a slice from a DataFrame\n",
      "\n",
      "See the caveats in the documentation: http://pandas.pydata.org/pandas-docs/stable/user_guide/indexing.html#returning-a-view-versus-a-copy\n",
      "  This is separate from the ipykernel package so we can avoid doing imports until\n"
     ]
    }
   ],
   "source": [
    "index = list(a_french['index'])\n",
    "for i in index:\n",
    "    train['a_french'][int(i)] = a_french['answer'][a_french['index']==int(i)]"
   ]
  },
  {
   "cell_type": "code",
   "execution_count": 94,
   "metadata": {},
   "outputs": [],
   "source": [
    "t_french = pd.read_excel('train_title_from_french.xlsx')"
   ]
  },
  {
   "cell_type": "code",
   "execution_count": 95,
   "metadata": {},
   "outputs": [
    {
     "data": {
      "text/plain": [
       "(6079, 2)"
      ]
     },
     "execution_count": 95,
     "metadata": {},
     "output_type": "execute_result"
    }
   ],
   "source": [
    "t_french.shape"
   ]
  },
  {
   "cell_type": "code",
   "execution_count": 96,
   "metadata": {},
   "outputs": [],
   "source": [
    "train['t_french'] = t_french['question_title']"
   ]
  },
  {
   "cell_type": "code",
   "execution_count": 97,
   "metadata": {},
   "outputs": [],
   "source": [
    "b_french = pd.read_excel('train_body_from_french.xlsx')"
   ]
  },
  {
   "cell_type": "code",
   "execution_count": 98,
   "metadata": {},
   "outputs": [
    {
     "name": "stdout",
     "output_type": "stream",
     "text": [
      "490\n",
      "1944\n"
     ]
    }
   ],
   "source": [
    "check(b_french)"
   ]
  },
  {
   "cell_type": "code",
   "execution_count": 99,
   "metadata": {},
   "outputs": [],
   "source": [
    "b_french = b_french.drop([490, 1944])"
   ]
  },
  {
   "cell_type": "code",
   "execution_count": 100,
   "metadata": {},
   "outputs": [
    {
     "name": "stderr",
     "output_type": "stream",
     "text": [
      "/home/leon/anaconda3/envs/leon/lib/python3.7/site-packages/ipykernel_launcher.py:3: SettingWithCopyWarning: \n",
      "A value is trying to be set on a copy of a slice from a DataFrame\n",
      "\n",
      "See the caveats in the documentation: http://pandas.pydata.org/pandas-docs/stable/user_guide/indexing.html#returning-a-view-versus-a-copy\n",
      "  This is separate from the ipykernel package so we can avoid doing imports until\n"
     ]
    }
   ],
   "source": [
    "index = list(b_french['index'])\n",
    "for i in index:\n",
    "    train['b_french'][int(i)] = b_french['question_body'][b_french['index']==int(i)]"
   ]
  },
  {
   "cell_type": "code",
   "execution_count": 101,
   "metadata": {},
   "outputs": [],
   "source": [
    "a_german = pd.read_excel('train_answer_from_german.xlsx')"
   ]
  },
  {
   "cell_type": "code",
   "execution_count": 102,
   "metadata": {},
   "outputs": [],
   "source": [
    "check(a_german)"
   ]
  },
  {
   "cell_type": "code",
   "execution_count": 103,
   "metadata": {},
   "outputs": [
    {
     "data": {
      "text/plain": [
       "(5937, 2)"
      ]
     },
     "execution_count": 103,
     "metadata": {},
     "output_type": "execute_result"
    }
   ],
   "source": [
    "a_german.shape"
   ]
  },
  {
   "cell_type": "code",
   "execution_count": 104,
   "metadata": {},
   "outputs": [
    {
     "data": {
      "text/html": [
       "<div>\n",
       "<style scoped>\n",
       "    .dataframe tbody tr th:only-of-type {\n",
       "        vertical-align: middle;\n",
       "    }\n",
       "\n",
       "    .dataframe tbody tr th {\n",
       "        vertical-align: top;\n",
       "    }\n",
       "\n",
       "    .dataframe thead th {\n",
       "        text-align: right;\n",
       "    }\n",
       "</style>\n",
       "<table border=\"1\" class=\"dataframe\">\n",
       "  <thead>\n",
       "    <tr style=\"text-align: right;\">\n",
       "      <th></th>\n",
       "      <th>index</th>\n",
       "      <th>answer</th>\n",
       "    </tr>\n",
       "  </thead>\n",
       "  <tbody>\n",
       "    <tr>\n",
       "      <th>0</th>\n",
       "      <td>0</td>\n",
       "      <td>I just got extension tubes, so here is the thi...</td>\n",
       "    </tr>\n",
       "    <tr>\n",
       "      <th>1</th>\n",
       "      <td>1</td>\n",
       "      <td>It can be helpful to check the definition of t...</td>\n",
       "    </tr>\n",
       "    <tr>\n",
       "      <th>2</th>\n",
       "      <td>2</td>\n",
       "      <td>Do you need grooves at all? We manufacture var...</td>\n",
       "    </tr>\n",
       "    <tr>\n",
       "      <th>3</th>\n",
       "      <td>3</td>\n",
       "      <td>Sending an \"affidavit\" is a dispute between Ra...</td>\n",
       "    </tr>\n",
       "    <tr>\n",
       "      <th>4</th>\n",
       "      <td>4</td>\n",
       "      <td>Try Image Trace in Adobe Illustrator. I like t...</td>\n",
       "    </tr>\n",
       "  </tbody>\n",
       "</table>\n",
       "</div>"
      ],
      "text/plain": [
       "   index                                             answer\n",
       "0      0  I just got extension tubes, so here is the thi...\n",
       "1      1  It can be helpful to check the definition of t...\n",
       "2      2  Do you need grooves at all? We manufacture var...\n",
       "3      3  Sending an \"affidavit\" is a dispute between Ra...\n",
       "4      4  Try Image Trace in Adobe Illustrator. I like t..."
      ]
     },
     "execution_count": 104,
     "metadata": {},
     "output_type": "execute_result"
    }
   ],
   "source": [
    "a_german.head()"
   ]
  },
  {
   "cell_type": "code",
   "execution_count": 105,
   "metadata": {},
   "outputs": [
    {
     "name": "stderr",
     "output_type": "stream",
     "text": [
      "/home/leon/anaconda3/envs/leon/lib/python3.7/site-packages/ipykernel_launcher.py:3: SettingWithCopyWarning: \n",
      "A value is trying to be set on a copy of a slice from a DataFrame\n",
      "\n",
      "See the caveats in the documentation: http://pandas.pydata.org/pandas-docs/stable/user_guide/indexing.html#returning-a-view-versus-a-copy\n",
      "  This is separate from the ipykernel package so we can avoid doing imports until\n"
     ]
    }
   ],
   "source": [
    "index = list(a_german['index'])\n",
    "for i in index:\n",
    "    train['a_german'][int(i)] = a_german['answer'][a_german['index']==int(i)]"
   ]
  },
  {
   "cell_type": "code",
   "execution_count": 121,
   "metadata": {},
   "outputs": [],
   "source": [
    "t_german = pd.read_excel('train_title_from_german.xlsx')"
   ]
  },
  {
   "cell_type": "code",
   "execution_count": 122,
   "metadata": {},
   "outputs": [
    {
     "data": {
      "text/plain": [
       "(6079, 2)"
      ]
     },
     "execution_count": 122,
     "metadata": {},
     "output_type": "execute_result"
    }
   ],
   "source": [
    "t_german.shape"
   ]
  },
  {
   "cell_type": "code",
   "execution_count": 123,
   "metadata": {},
   "outputs": [],
   "source": [
    "train['t_german'] = t_german['question_title']"
   ]
  },
  {
   "cell_type": "code",
   "execution_count": 124,
   "metadata": {},
   "outputs": [],
   "source": [
    "b_german = pd.read_excel('train_body_from_german.xlsx')"
   ]
  },
  {
   "cell_type": "code",
   "execution_count": 125,
   "metadata": {},
   "outputs": [
    {
     "name": "stdout",
     "output_type": "stream",
     "text": [
      "5966\n",
      "5967\n",
      "5968\n",
      "5969\n"
     ]
    }
   ],
   "source": [
    "check(b_german)"
   ]
  },
  {
   "cell_type": "code",
   "execution_count": 126,
   "metadata": {},
   "outputs": [
    {
     "data": {
      "text/plain": [
       "(5970, 2)"
      ]
     },
     "execution_count": 126,
     "metadata": {},
     "output_type": "execute_result"
    }
   ],
   "source": [
    "b_german.shape"
   ]
  },
  {
   "cell_type": "code",
   "execution_count": 127,
   "metadata": {},
   "outputs": [],
   "source": [
    "b_german = pd.read_excel('train_body_from_german.xlsx')[:5966]"
   ]
  },
  {
   "cell_type": "code",
   "execution_count": 128,
   "metadata": {},
   "outputs": [
    {
     "name": "stderr",
     "output_type": "stream",
     "text": [
      "/home/leon/anaconda3/envs/leon/lib/python3.7/site-packages/ipykernel_launcher.py:3: SettingWithCopyWarning: \n",
      "A value is trying to be set on a copy of a slice from a DataFrame\n",
      "\n",
      "See the caveats in the documentation: http://pandas.pydata.org/pandas-docs/stable/user_guide/indexing.html#returning-a-view-versus-a-copy\n",
      "  This is separate from the ipykernel package so we can avoid doing imports until\n"
     ]
    }
   ],
   "source": [
    "index = list(b_german['index'])\n",
    "for i in index:\n",
    "    train['b_german'][int(i)] = b_german['question_body'][b_german['index']==int(i)]"
   ]
  },
  {
   "cell_type": "code",
   "execution_count": 129,
   "metadata": {},
   "outputs": [
    {
     "data": {
      "text/plain": [
       "<bound method NDFrame.head of       qa_id                                     question_title  \\\n",
       "0         0  What am I losing when using extension tubes in...   \n",
       "1         1  What is the distinction between a city and a s...   \n",
       "2         2  Maximum protusion length for through-hole comp...   \n",
       "3         3              Can an affidavit be used in Beit Din?   \n",
       "4         5       How do you make a binary image in Photoshop?   \n",
       "...     ...                                                ...   \n",
       "6074   9642               Using a ski helmet for winter biking   \n",
       "6075   9643  Adjustment to road bike brakes for high grade ...   \n",
       "6076   9645  Suppress 'file truncated' messages when using ...   \n",
       "6077   9646           When should a supervisor be a co-author?   \n",
       "6078   9647  Why are there so many different types of screw...   \n",
       "\n",
       "                                          question_body question_user_name  \\\n",
       "0     After playing around with macro photography on...               ysap   \n",
       "1     I am trying to understand what kinds of places...      russellpierce   \n",
       "2     I'm working on a PCB that has through-hole com...          Joe Baker   \n",
       "3     An affidavit, from what i understand, is basic...         Scimonster   \n",
       "4     I am trying to make a binary image. I want mor...            leigero   \n",
       "...                                                 ...                ...   \n",
       "6074  I am curious if anyone uses a skiing helmet fo...   sixtyfootersdude   \n",
       "6075  I have a road bike with a front brake that wea...                ash   \n",
       "6076  I'm tailing a log file using tail -f messages....    Maneating Koala   \n",
       "6077  What are people's views on this?  To be specif...                MrB   \n",
       "6078  Newbie question.\\n\\nWhy is it that there's a b...            Doug T.   \n",
       "\n",
       "                                     question_user_page  \\\n",
       "0            https://photo.stackexchange.com/users/1024   \n",
       "1              https://rpg.stackexchange.com/users/8774   \n",
       "2     https://electronics.stackexchange.com/users/10157   \n",
       "3          https://judaism.stackexchange.com/users/5151   \n",
       "4     https://graphicdesign.stackexchange.com/users/...   \n",
       "...                                                 ...   \n",
       "6074       https://bicycles.stackexchange.com/users/134   \n",
       "6075     https://bicycles.stackexchange.com/users/14519   \n",
       "6076         https://unix.stackexchange.com/users/60445   \n",
       "6077                https://mathoverflow.net/users/2189   \n",
       "6078            https://diy.stackexchange.com/users/321   \n",
       "\n",
       "                                                 answer answer_user_name  \\\n",
       "0     I just got extension tubes, so here's the skin...           rfusca   \n",
       "1     It might be helpful to look into the definitio...     Erik Schmidt   \n",
       "2     Do you even need grooves?  We make several pro...      Dwayne Reid   \n",
       "3     Sending an \"affidavit\" it is a dispute between...    Y     e     z   \n",
       "4     Check out Image Trace in Adobe Illustrator. \\n...             q2ra   \n",
       "...                                                 ...              ...   \n",
       "6074  If you're thinking about wearing a ski helmet ...         Matt Leo   \n",
       "6075  \\nYou can replace the pads (as stated elsewher...   Daniel R Hicks   \n",
       "6076  Maybe help if can be fixes origin of this erro...         BG Bruno   \n",
       "6077  As a non-mathematician, I am somewhat mystifie...           angela   \n",
       "6078  First, I really like Eric's answer for practic...         Scivitri   \n",
       "\n",
       "                                       answer_user_page  \\\n",
       "0            https://photo.stackexchange.com/users/1917   \n",
       "1              https://rpg.stackexchange.com/users/1871   \n",
       "2     https://electronics.stackexchange.com/users/64754   \n",
       "3          https://judaism.stackexchange.com/users/4794   \n",
       "4     https://graphicdesign.stackexchange.com/users/...   \n",
       "...                                                 ...   \n",
       "6074      https://bicycles.stackexchange.com/users/3340   \n",
       "6075      https://bicycles.stackexchange.com/users/1584   \n",
       "6076         https://unix.stackexchange.com/users/68208   \n",
       "6077                https://mathoverflow.net/users/4267   \n",
       "6078            https://diy.stackexchange.com/users/113   \n",
       "\n",
       "                                                    url    category  ...  \\\n",
       "0     http://photo.stackexchange.com/questions/9169/...   LIFE_ARTS  ...   \n",
       "1     http://rpg.stackexchange.com/questions/47820/w...     CULTURE  ...   \n",
       "2     http://electronics.stackexchange.com/questions...     SCIENCE  ...   \n",
       "3     http://judaism.stackexchange.com/questions/551...     CULTURE  ...   \n",
       "4     http://graphicdesign.stackexchange.com/questio...   LIFE_ARTS  ...   \n",
       "...                                                 ...         ...  ...   \n",
       "6074  http://bicycles.stackexchange.com/questions/99...     CULTURE  ...   \n",
       "6075  http://bicycles.stackexchange.com/questions/25...     CULTURE  ...   \n",
       "6076  http://unix.stackexchange.com/questions/169054...  TECHNOLOGY  ...   \n",
       "6077            http://mathoverflow.net/questions/57337     SCIENCE  ...   \n",
       "6078  http://diy.stackexchange.com/questions/2701/wh...   LIFE_ARTS  ...   \n",
       "\n",
       "     answer_well_written                                          a_chinese  \\\n",
       "0               1.000000  0     I only have extension tubes, so it's thi...   \n",
       "1               0.888889  1    It may be helpful to study the definition...   \n",
       "2               0.888889  2    Do you even need grooves? We use through-...   \n",
       "3               1.000000  3    Sending the \"affidavit\" was a dispute bet...   \n",
       "4               1.000000  4    Check out Image Trace in Adobe Illustrato...   \n",
       "...                  ...                                                ...   \n",
       "6074            0.888889  5928    If you want to ride a ski helmet, the ...   \n",
       "6075            0.888889  \\nYou can replace the pads (as stated elsewher...   \n",
       "6076            0.555556  5929    Perhaps the root cause of this error c...   \n",
       "6077            1.000000  5930    As a non-mathematician, I understand t...   \n",
       "6078            1.000000  5931    First, for practical reasons, I really...   \n",
       "\n",
       "      t_chinese                                          b_chinese  \\\n",
       "0             0  0    After playing great value macro photograp...   \n",
       "1           NaN  1    I'm trying to understand where the spam v...   \n",
       "2             2  2    I am working on a PCB with through-hole c...   \n",
       "3             3  3    As far as I know, the affidavit is basica...   \n",
       "4             4  4    I am trying to make a binary image. Not o...   \n",
       "...         ...                                                ...   \n",
       "6074       6074  5950    I'm curious if anyone uses ski helmets...   \n",
       "6075       6075  5951    I have a road bike with front brakes t...   \n",
       "6076       6076  5952    I'm using tail -f messages.log to tail...   \n",
       "6077       6077  5953    What do people think about this? Speci...   \n",
       "6078       6078  5954    Novice question. Why are there thousan...   \n",
       "\n",
       "                                               a_french  t_french  \\\n",
       "0     0    I just received extension tubes, so here ...         0   \n",
       "1     1    It might be useful to examine the definit...         1   \n",
       "2     2    Do you even need grooves? We manufacture ...         2   \n",
       "3     3    The sending of an “affidavit” is a disput...         3   \n",
       "4     4    Discover Image Trace in Adobe Illustrator...         4   \n",
       "...                                                 ...       ...   \n",
       "6074  5930    If you're thinking about wearing a ski...      6074   \n",
       "6075  \\nYou can replace the pads (as stated elsewher...      6075   \n",
       "6076  5931    Maybe help if the cause of this error ...      6076   \n",
       "6077  5932    As a non-mathematician, I am somewhat ...      6077   \n",
       "6078  5933    First of all, I really like Eric's ans...      6078   \n",
       "\n",
       "                                               b_french  \\\n",
       "0     0    After playing with low-cost macro photogr...   \n",
       "1     1    I'm trying to understand what types of pl...   \n",
       "2     2    I am working on a PCB which has through c...   \n",
       "3     3    An affidavit, as I understand it, is basi...   \n",
       "4     4    I am trying to make a binary image. I wan...   \n",
       "...                                                 ...   \n",
       "6074  5956    I'm curious if someone uses a ski helm...   \n",
       "6075  5957    I have a road bike with a front brake ...   \n",
       "6076  5958    I use a log file using tail -f message...   \n",
       "6077  5959    What are people's opinions on this? To...   \n",
       "6078  5960    Question for beginners: why are there ...   \n",
       "\n",
       "                                               a_german  t_german  \\\n",
       "0     0    I just got extension tubes, so here is th...         0   \n",
       "1     1    It can be helpful to check the definition...         1   \n",
       "2     2    Do you need grooves at all? We manufactur...         2   \n",
       "3     3    Sending an \"affidavit\" is a dispute betwe...         3   \n",
       "4     4    Try Image Trace in Adobe Illustrator. I l...         4   \n",
       "...                                                 ...       ...   \n",
       "6074  5933    If you're thinking about wearing a ski...      6074   \n",
       "6075  \\nYou can replace the pads (as stated elsewher...      6075   \n",
       "6076  5934    Maybe help if corrections can be the o...      6076   \n",
       "6077  5935    As a non-mathematician, I am somewhat ...      6077   \n",
       "6078  5936    First, I really like Eric's answer for...      6078   \n",
       "\n",
       "                                               b_german  \n",
       "0     0    After the cheap messing around with macro...  \n",
       "1     1    I am trying to understand what types of p...  \n",
       "2     2    I am working on a circuit board that has ...  \n",
       "3     3    As far as I know, an affidavit is basical...  \n",
       "4     4    I'm trying to make a binary picture. I wa...  \n",
       "...                                                 ...  \n",
       "6074  5961    I'm curious to see if someone uses a s...  \n",
       "6075  5962    I have a road bike with a front brake ...  \n",
       "6076  5963    I tailing a log file tail -f with mess...  \n",
       "6077  5964    What do people say about it? To be pre...  \n",
       "6078  5965    Newbie question.\n",
       "Name: question_body, ...  \n",
       "\n",
       "[6079 rows x 50 columns]>"
      ]
     },
     "execution_count": 129,
     "metadata": {},
     "output_type": "execute_result"
    }
   ],
   "source": [
    "train.head"
   ]
  },
  {
   "cell_type": "code",
   "execution_count": 130,
   "metadata": {},
   "outputs": [],
   "source": [
    "train.to_csv('train_aug.csv')"
   ]
  },
  {
   "cell_type": "code",
   "execution_count": null,
   "metadata": {},
   "outputs": [],
   "source": []
  }
 ],
 "metadata": {
  "kernelspec": {
   "display_name": "Python 3",
   "language": "python",
   "name": "python3"
  },
  "language_info": {
   "codemirror_mode": {
    "name": "ipython",
    "version": 3
   },
   "file_extension": ".py",
   "mimetype": "text/x-python",
   "name": "python",
   "nbconvert_exporter": "python",
   "pygments_lexer": "ipython3",
   "version": "3.7.4"
  }
 },
 "nbformat": 4,
 "nbformat_minor": 2
}
