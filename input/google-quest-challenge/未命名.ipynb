{
 "cells": [
  {
   "cell_type": "code",
   "execution_count": 1,
   "metadata": {},
   "outputs": [],
   "source": [
    "import pandas as pd\n",
    "import numpy as np\n",
    "import glob"
   ]
  },
  {
   "cell_type": "code",
   "execution_count": 2,
   "metadata": {},
   "outputs": [],
   "source": [
    "train = pd.read_csv('train.csv')"
   ]
  },
  {
   "cell_type": "code",
   "execution_count": 3,
   "metadata": {},
   "outputs": [],
   "source": [
    "xls_files = glob.glob('*.xlsx')"
   ]
  },
  {
   "cell_type": "code",
   "execution_count": 4,
   "metadata": {},
   "outputs": [
    {
     "data": {
      "text/plain": [
       "['train_answer_from_french.xlsx',\n",
       " 'train_title_from_german.xlsx',\n",
       " 'train_body_from_french.xlsx',\n",
       " 'train_body_from_chinese.xlsx',\n",
       " 'train_title_from_french.xlsx',\n",
       " 'train_body_from_german.xlsx',\n",
       " 'train_title_from_chinese.xlsx',\n",
       " 'train_answer_from_german.xlsx',\n",
       " 'train_answer_from_chinese.xlsx']"
      ]
     },
     "execution_count": 4,
     "metadata": {},
     "output_type": "execute_result"
    }
   ],
   "source": [
    "xls_files"
   ]
  },
  {
   "cell_type": "code",
   "execution_count": 5,
   "metadata": {},
   "outputs": [],
   "source": [
    "train['a_chinese'] = train['answer']\n",
    "train['t_chinese'] = train['question_title']\n",
    "train['b_chinese'] = train['question_body']\n",
    "train['a_french'] = train['answer']\n",
    "train['t_french'] = train['question_title']\n",
    "train['b_french'] = train['question_body']\n",
    "train['a_german'] = train['answer']\n",
    "train['t_german'] = train['question_title']\n",
    "train['b_german'] = train['question_body']"
   ]
  },
  {
   "cell_type": "code",
   "execution_count": 6,
   "metadata": {},
   "outputs": [
    {
     "data": {
      "text/plain": [
       "(6079, 50)"
      ]
     },
     "execution_count": 6,
     "metadata": {},
     "output_type": "execute_result"
    }
   ],
   "source": [
    "train.shape"
   ]
  },
  {
   "cell_type": "code",
   "execution_count": 7,
   "metadata": {},
   "outputs": [],
   "source": [
    "a_chinese = pd.read_excel('train_answer_from_chinese.xlsx')"
   ]
  },
  {
   "cell_type": "code",
   "execution_count": 8,
   "metadata": {},
   "outputs": [],
   "source": [
    "def check(a_chinese, index = 'index'):\n",
    "    for i in range(a_chinese.shape[0]):\n",
    "        try:\n",
    "            int(a_chinese[index].iloc[i])\n",
    "        except:\n",
    "            print(i)"
   ]
  },
  {
   "cell_type": "code",
   "execution_count": 9,
   "metadata": {},
   "outputs": [
    {
     "name": "stdout",
     "output_type": "stream",
     "text": [
      "5932\n",
      "5933\n",
      "5934\n",
      "5935\n"
     ]
    }
   ],
   "source": [
    "check(a_chinese)"
   ]
  },
  {
   "cell_type": "code",
   "execution_count": 10,
   "metadata": {},
   "outputs": [],
   "source": [
    "a_chinese = pd.read_excel('train_answer_from_chinese.xlsx')[:5932]"
   ]
  },
  {
   "cell_type": "code",
   "execution_count": 11,
   "metadata": {},
   "outputs": [
    {
     "data": {
      "text/plain": [
       "<pandas.core.indexing._iLocIndexer at 0x7f1cab1bcdd0>"
      ]
     },
     "execution_count": 11,
     "metadata": {},
     "output_type": "execute_result"
    }
   ],
   "source": [
    "a_chinese.iloc"
   ]
  },
  {
   "cell_type": "code",
   "execution_count": 12,
   "metadata": {},
   "outputs": [],
   "source": [
    "index = list(a_chinese['index'])"
   ]
  },
  {
   "cell_type": "code",
   "execution_count": 13,
   "metadata": {},
   "outputs": [
    {
     "name": "stderr",
     "output_type": "stream",
     "text": [
      "/home/leon/anaconda3/envs/leon/lib/python3.7/site-packages/ipykernel_launcher.py:2: SettingWithCopyWarning: \n",
      "A value is trying to be set on a copy of a slice from a DataFrame\n",
      "\n",
      "See the caveats in the documentation: http://pandas.pydata.org/pandas-docs/stable/user_guide/indexing.html#returning-a-view-versus-a-copy\n",
      "  \n"
     ]
    }
   ],
   "source": [
    "for i in index:\n",
    "    train['a_chinese'][int(i)] = a_chinese['answer'][np.where(a_chinese['index']==i)[0][0]]"
   ]
  },
  {
   "cell_type": "code",
   "execution_count": 14,
   "metadata": {},
   "outputs": [],
   "source": [
    "t_chinese = pd.read_excel('train_title_from_chinese.xlsx')"
   ]
  },
  {
   "cell_type": "code",
   "execution_count": 15,
   "metadata": {
    "scrolled": true
   },
   "outputs": [
    {
     "data": {
      "text/html": [
       "<div>\n",
       "<style scoped>\n",
       "    .dataframe tbody tr th:only-of-type {\n",
       "        vertical-align: middle;\n",
       "    }\n",
       "\n",
       "    .dataframe tbody tr th {\n",
       "        vertical-align: top;\n",
       "    }\n",
       "\n",
       "    .dataframe thead th {\n",
       "        text-align: right;\n",
       "    }\n",
       "</style>\n",
       "<table border=\"1\" class=\"dataframe\">\n",
       "  <thead>\n",
       "    <tr style=\"text-align: right;\">\n",
       "      <th></th>\n",
       "      <th>Unnamed: 0</th>\n",
       "      <th>Question title</th>\n",
       "    </tr>\n",
       "  </thead>\n",
       "  <tbody>\n",
       "    <tr>\n",
       "      <th>0</th>\n",
       "      <td>0</td>\n",
       "      <td>What do I lose when using an extension tube in...</td>\n",
       "    </tr>\n",
       "    <tr>\n",
       "      <th>1</th>\n",
       "      <td>1</td>\n",
       "      <td>What is the difference between a city and a sp...</td>\n",
       "    </tr>\n",
       "    <tr>\n",
       "      <th>2</th>\n",
       "      <td>2</td>\n",
       "      <td>Maximum protruding length of through-hole asse...</td>\n",
       "    </tr>\n",
       "    <tr>\n",
       "      <th>3</th>\n",
       "      <td>3</td>\n",
       "      <td>Can Batetin use affidavits?</td>\n",
       "    </tr>\n",
       "    <tr>\n",
       "      <th>4</th>\n",
       "      <td>4</td>\n",
       "      <td>How do you make binary images in Photoshop?</td>\n",
       "    </tr>\n",
       "  </tbody>\n",
       "</table>\n",
       "</div>"
      ],
      "text/plain": [
       "  Unnamed: 0                                     Question title\n",
       "0          0  What do I lose when using an extension tube in...\n",
       "1          1  What is the difference between a city and a sp...\n",
       "2          2  Maximum protruding length of through-hole asse...\n",
       "3          3                        Can Batetin use affidavits?\n",
       "4          4        How do you make binary images in Photoshop?"
      ]
     },
     "execution_count": 15,
     "metadata": {},
     "output_type": "execute_result"
    }
   ],
   "source": [
    "t_chinese.head()"
   ]
  },
  {
   "cell_type": "code",
   "execution_count": 16,
   "metadata": {},
   "outputs": [],
   "source": [
    "train['t_chinese'] = t_chinese['Question title']"
   ]
  },
  {
   "cell_type": "code",
   "execution_count": 17,
   "metadata": {},
   "outputs": [],
   "source": [
    "b_chinese = pd.read_excel('train_body_from_chinese.xlsx')"
   ]
  },
  {
   "cell_type": "code",
   "execution_count": 18,
   "metadata": {},
   "outputs": [
    {
     "data": {
      "text/html": [
       "<div>\n",
       "<style scoped>\n",
       "    .dataframe tbody tr th:only-of-type {\n",
       "        vertical-align: middle;\n",
       "    }\n",
       "\n",
       "    .dataframe tbody tr th {\n",
       "        vertical-align: top;\n",
       "    }\n",
       "\n",
       "    .dataframe thead th {\n",
       "        text-align: right;\n",
       "    }\n",
       "</style>\n",
       "<table border=\"1\" class=\"dataframe\">\n",
       "  <thead>\n",
       "    <tr style=\"text-align: right;\">\n",
       "      <th></th>\n",
       "      <th>index</th>\n",
       "      <th>question_body</th>\n",
       "    </tr>\n",
       "  </thead>\n",
       "  <tbody>\n",
       "    <tr>\n",
       "      <th>0</th>\n",
       "      <td>0</td>\n",
       "      <td>After playing great value macro photography (r...</td>\n",
       "    </tr>\n",
       "    <tr>\n",
       "      <th>1</th>\n",
       "      <td>1</td>\n",
       "      <td>I'm trying to understand where the spam value ...</td>\n",
       "    </tr>\n",
       "    <tr>\n",
       "      <th>2</th>\n",
       "      <td>2</td>\n",
       "      <td>I am working on a PCB with through-hole compon...</td>\n",
       "    </tr>\n",
       "    <tr>\n",
       "      <th>3</th>\n",
       "      <td>3</td>\n",
       "      <td>As far as I know, the affidavit is basically a...</td>\n",
       "    </tr>\n",
       "    <tr>\n",
       "      <th>4</th>\n",
       "      <td>4</td>\n",
       "      <td>I am trying to make a binary image. Not only d...</td>\n",
       "    </tr>\n",
       "  </tbody>\n",
       "</table>\n",
       "</div>"
      ],
      "text/plain": [
       "  index                                      question_body\n",
       "0     0  After playing great value macro photography (r...\n",
       "1     1  I'm trying to understand where the spam value ...\n",
       "2     2  I am working on a PCB with through-hole compon...\n",
       "3     3  As far as I know, the affidavit is basically a...\n",
       "4     4  I am trying to make a binary image. Not only d..."
      ]
     },
     "execution_count": 18,
     "metadata": {},
     "output_type": "execute_result"
    }
   ],
   "source": [
    "b_chinese.head()"
   ]
  },
  {
   "cell_type": "code",
   "execution_count": 19,
   "metadata": {},
   "outputs": [
    {
     "name": "stdout",
     "output_type": "stream",
     "text": [
      "5955\n",
      "5956\n",
      "5957\n",
      "5958\n"
     ]
    }
   ],
   "source": [
    "check(b_chinese)"
   ]
  },
  {
   "cell_type": "code",
   "execution_count": 20,
   "metadata": {},
   "outputs": [],
   "source": [
    "b_chinese = pd.read_excel('train_body_from_chinese.xlsx')[:5955]"
   ]
  },
  {
   "cell_type": "code",
   "execution_count": 21,
   "metadata": {},
   "outputs": [],
   "source": [
    "index = list(b_chinese['index'])"
   ]
  },
  {
   "cell_type": "code",
   "execution_count": 22,
   "metadata": {},
   "outputs": [
    {
     "name": "stderr",
     "output_type": "stream",
     "text": [
      "/home/leon/anaconda3/envs/leon/lib/python3.7/site-packages/ipykernel_launcher.py:2: SettingWithCopyWarning: \n",
      "A value is trying to be set on a copy of a slice from a DataFrame\n",
      "\n",
      "See the caveats in the documentation: http://pandas.pydata.org/pandas-docs/stable/user_guide/indexing.html#returning-a-view-versus-a-copy\n",
      "  \n"
     ]
    }
   ],
   "source": [
    "for i in index:\n",
    "    train['b_chinese'][int(i)] = b_chinese['question_body'][np.where(b_chinese['index']==i)[0][0]]"
   ]
  },
  {
   "cell_type": "code",
   "execution_count": 44,
   "metadata": {},
   "outputs": [],
   "source": [
    "a_french = pd.read_excel('train_answer_from_french.xlsx')"
   ]
  },
  {
   "cell_type": "code",
   "execution_count": 45,
   "metadata": {},
   "outputs": [
    {
     "name": "stdout",
     "output_type": "stream",
     "text": [
      "488\n",
      "1925\n"
     ]
    }
   ],
   "source": [
    "check(a_french)"
   ]
  },
  {
   "cell_type": "code",
   "execution_count": 48,
   "metadata": {},
   "outputs": [
    {
     "data": {
      "text/html": [
       "<div>\n",
       "<style scoped>\n",
       "    .dataframe tbody tr th:only-of-type {\n",
       "        vertical-align: middle;\n",
       "    }\n",
       "\n",
       "    .dataframe tbody tr th {\n",
       "        vertical-align: top;\n",
       "    }\n",
       "\n",
       "    .dataframe thead th {\n",
       "        text-align: right;\n",
       "    }\n",
       "</style>\n",
       "<table border=\"1\" class=\"dataframe\">\n",
       "  <thead>\n",
       "    <tr style=\"text-align: right;\">\n",
       "      <th></th>\n",
       "      <th>index</th>\n",
       "      <th>answer</th>\n",
       "    </tr>\n",
       "  </thead>\n",
       "  <tbody>\n",
       "    <tr>\n",
       "      <th>487</th>\n",
       "      <td>496</td>\n",
       "      <td>find ./* -maxdepth 0 -type d -exec bash -c 'ec...</td>\n",
       "    </tr>\n",
       "    <tr>\n",
       "      <th>488</th>\n",
       "      <td>498</td>\n",
       "      <td>You want the -v flag, not the -x flag. Symbols...</td>\n",
       "    </tr>\n",
       "  </tbody>\n",
       "</table>\n",
       "</div>"
      ],
      "text/plain": [
       "    index                                             answer\n",
       "487   496  find ./* -maxdepth 0 -type d -exec bash -c 'ec...\n",
       "488   498  You want the -v flag, not the -x flag. Symbols..."
      ]
     },
     "execution_count": 48,
     "metadata": {},
     "output_type": "execute_result"
    }
   ],
   "source": [
    "a_french.iloc[487:489]"
   ]
  },
  {
   "cell_type": "code",
   "execution_count": 47,
   "metadata": {},
   "outputs": [],
   "source": [
    "a_french = a_french.drop([488, 1925])\n",
    "a_french = a_french.reset_index(drop=True)"
   ]
  },
  {
   "cell_type": "code",
   "execution_count": 50,
   "metadata": {},
   "outputs": [
    {
     "name": "stderr",
     "output_type": "stream",
     "text": [
      "/home/leon/anaconda3/envs/leon/lib/python3.7/site-packages/ipykernel_launcher.py:3: SettingWithCopyWarning: \n",
      "A value is trying to be set on a copy of a slice from a DataFrame\n",
      "\n",
      "See the caveats in the documentation: http://pandas.pydata.org/pandas-docs/stable/user_guide/indexing.html#returning-a-view-versus-a-copy\n",
      "  This is separate from the ipykernel package so we can avoid doing imports until\n"
     ]
    }
   ],
   "source": [
    "index = list(a_french['index'])\n",
    "for i in index:\n",
    "    train['a_french'][int(i)] = a_french['answer'][np.where(a_french['index']==i)[0][0]]"
   ]
  },
  {
   "cell_type": "code",
   "execution_count": 51,
   "metadata": {},
   "outputs": [],
   "source": [
    "t_french = pd.read_excel('train_title_from_french.xlsx')"
   ]
  },
  {
   "cell_type": "code",
   "execution_count": 52,
   "metadata": {},
   "outputs": [
    {
     "data": {
      "text/plain": [
       "(6079, 2)"
      ]
     },
     "execution_count": 52,
     "metadata": {},
     "output_type": "execute_result"
    }
   ],
   "source": [
    "t_french.shape"
   ]
  },
  {
   "cell_type": "code",
   "execution_count": 53,
   "metadata": {},
   "outputs": [
    {
     "data": {
      "text/html": [
       "<div>\n",
       "<style scoped>\n",
       "    .dataframe tbody tr th:only-of-type {\n",
       "        vertical-align: middle;\n",
       "    }\n",
       "\n",
       "    .dataframe tbody tr th {\n",
       "        vertical-align: top;\n",
       "    }\n",
       "\n",
       "    .dataframe thead th {\n",
       "        text-align: right;\n",
       "    }\n",
       "</style>\n",
       "<table border=\"1\" class=\"dataframe\">\n",
       "  <thead>\n",
       "    <tr style=\"text-align: right;\">\n",
       "      <th></th>\n",
       "      <th>Unnamed: 0</th>\n",
       "      <th>question title</th>\n",
       "    </tr>\n",
       "  </thead>\n",
       "  <tbody>\n",
       "    <tr>\n",
       "      <th>0</th>\n",
       "      <td>0</td>\n",
       "      <td>What do I lose when I use extension tubes inst...</td>\n",
       "    </tr>\n",
       "    <tr>\n",
       "      <th>1</th>\n",
       "      <td>1</td>\n",
       "      <td>What is the distinction between a city and a s...</td>\n",
       "    </tr>\n",
       "    <tr>\n",
       "      <th>2</th>\n",
       "      <td>2</td>\n",
       "      <td>Maximum protrusion length for pins of through ...</td>\n",
       "    </tr>\n",
       "    <tr>\n",
       "      <th>3</th>\n",
       "      <td>3</td>\n",
       "      <td>Can an affidavit be used at Beit Din?</td>\n",
       "    </tr>\n",
       "    <tr>\n",
       "      <th>4</th>\n",
       "      <td>4</td>\n",
       "      <td>How to create a binary image in Photoshop?</td>\n",
       "    </tr>\n",
       "  </tbody>\n",
       "</table>\n",
       "</div>"
      ],
      "text/plain": [
       "  Unnamed: 0                                     question title\n",
       "0          0  What do I lose when I use extension tubes inst...\n",
       "1          1  What is the distinction between a city and a s...\n",
       "2          2  Maximum protrusion length for pins of through ...\n",
       "3          3              Can an affidavit be used at Beit Din?\n",
       "4          4         How to create a binary image in Photoshop?"
      ]
     },
     "execution_count": 53,
     "metadata": {},
     "output_type": "execute_result"
    }
   ],
   "source": [
    "t_french.head()"
   ]
  },
  {
   "cell_type": "code",
   "execution_count": 54,
   "metadata": {},
   "outputs": [],
   "source": [
    "train['t_french'] = t_french['question title']"
   ]
  },
  {
   "cell_type": "code",
   "execution_count": 55,
   "metadata": {},
   "outputs": [],
   "source": [
    "b_french = pd.read_excel('train_body_from_french.xlsx')"
   ]
  },
  {
   "cell_type": "code",
   "execution_count": 56,
   "metadata": {},
   "outputs": [
    {
     "name": "stdout",
     "output_type": "stream",
     "text": [
      "490\n",
      "1944\n"
     ]
    }
   ],
   "source": [
    "check(b_french)"
   ]
  },
  {
   "cell_type": "code",
   "execution_count": 57,
   "metadata": {},
   "outputs": [],
   "source": [
    "b_french = b_french.drop([490, 1944])\n",
    "b_french = b_french.reset_index(drop=True)"
   ]
  },
  {
   "cell_type": "code",
   "execution_count": 58,
   "metadata": {},
   "outputs": [
    {
     "name": "stderr",
     "output_type": "stream",
     "text": [
      "/home/leon/anaconda3/envs/leon/lib/python3.7/site-packages/ipykernel_launcher.py:3: SettingWithCopyWarning: \n",
      "A value is trying to be set on a copy of a slice from a DataFrame\n",
      "\n",
      "See the caveats in the documentation: http://pandas.pydata.org/pandas-docs/stable/user_guide/indexing.html#returning-a-view-versus-a-copy\n",
      "  This is separate from the ipykernel package so we can avoid doing imports until\n"
     ]
    }
   ],
   "source": [
    "index = list(b_french['index'])\n",
    "for i in index:\n",
    "    train['b_french'][int(i)] = b_french['question_body'][np.where(b_french['index']==i)[0][0]]"
   ]
  },
  {
   "cell_type": "code",
   "execution_count": 59,
   "metadata": {},
   "outputs": [],
   "source": [
    "a_german = pd.read_excel('train_answer_from_german.xlsx')"
   ]
  },
  {
   "cell_type": "code",
   "execution_count": 60,
   "metadata": {},
   "outputs": [],
   "source": [
    "check(a_german)"
   ]
  },
  {
   "cell_type": "code",
   "execution_count": 61,
   "metadata": {},
   "outputs": [
    {
     "data": {
      "text/plain": [
       "(5937, 2)"
      ]
     },
     "execution_count": 61,
     "metadata": {},
     "output_type": "execute_result"
    }
   ],
   "source": [
    "a_german.shape"
   ]
  },
  {
   "cell_type": "code",
   "execution_count": 62,
   "metadata": {},
   "outputs": [
    {
     "data": {
      "text/html": [
       "<div>\n",
       "<style scoped>\n",
       "    .dataframe tbody tr th:only-of-type {\n",
       "        vertical-align: middle;\n",
       "    }\n",
       "\n",
       "    .dataframe tbody tr th {\n",
       "        vertical-align: top;\n",
       "    }\n",
       "\n",
       "    .dataframe thead th {\n",
       "        text-align: right;\n",
       "    }\n",
       "</style>\n",
       "<table border=\"1\" class=\"dataframe\">\n",
       "  <thead>\n",
       "    <tr style=\"text-align: right;\">\n",
       "      <th></th>\n",
       "      <th>index</th>\n",
       "      <th>answer</th>\n",
       "    </tr>\n",
       "  </thead>\n",
       "  <tbody>\n",
       "    <tr>\n",
       "      <th>0</th>\n",
       "      <td>0</td>\n",
       "      <td>I just got extension tubes, so here is the thi...</td>\n",
       "    </tr>\n",
       "    <tr>\n",
       "      <th>1</th>\n",
       "      <td>1</td>\n",
       "      <td>It can be helpful to check the definition of t...</td>\n",
       "    </tr>\n",
       "    <tr>\n",
       "      <th>2</th>\n",
       "      <td>2</td>\n",
       "      <td>Do you need grooves at all? We manufacture var...</td>\n",
       "    </tr>\n",
       "    <tr>\n",
       "      <th>3</th>\n",
       "      <td>3</td>\n",
       "      <td>Sending an \"affidavit\" is a dispute between Ra...</td>\n",
       "    </tr>\n",
       "    <tr>\n",
       "      <th>4</th>\n",
       "      <td>4</td>\n",
       "      <td>Try Image Trace in Adobe Illustrator. I like t...</td>\n",
       "    </tr>\n",
       "  </tbody>\n",
       "</table>\n",
       "</div>"
      ],
      "text/plain": [
       "   index                                             answer\n",
       "0      0  I just got extension tubes, so here is the thi...\n",
       "1      1  It can be helpful to check the definition of t...\n",
       "2      2  Do you need grooves at all? We manufacture var...\n",
       "3      3  Sending an \"affidavit\" is a dispute between Ra...\n",
       "4      4  Try Image Trace in Adobe Illustrator. I like t..."
      ]
     },
     "execution_count": 62,
     "metadata": {},
     "output_type": "execute_result"
    }
   ],
   "source": [
    "a_german.head()"
   ]
  },
  {
   "cell_type": "code",
   "execution_count": 64,
   "metadata": {},
   "outputs": [
    {
     "name": "stderr",
     "output_type": "stream",
     "text": [
      "/home/leon/anaconda3/envs/leon/lib/python3.7/site-packages/ipykernel_launcher.py:3: SettingWithCopyWarning: \n",
      "A value is trying to be set on a copy of a slice from a DataFrame\n",
      "\n",
      "See the caveats in the documentation: http://pandas.pydata.org/pandas-docs/stable/user_guide/indexing.html#returning-a-view-versus-a-copy\n",
      "  This is separate from the ipykernel package so we can avoid doing imports until\n"
     ]
    }
   ],
   "source": [
    "index = list(a_german['index'])\n",
    "for i in index:\n",
    "    train['a_german'][int(i)] = a_german['answer'][np.where(a_german['index']==i)[0][0]]"
   ]
  },
  {
   "cell_type": "code",
   "execution_count": 65,
   "metadata": {},
   "outputs": [],
   "source": [
    "t_german = pd.read_excel('train_title_from_german.xlsx')"
   ]
  },
  {
   "cell_type": "code",
   "execution_count": 66,
   "metadata": {},
   "outputs": [
    {
     "data": {
      "text/plain": [
       "(6079, 2)"
      ]
     },
     "execution_count": 66,
     "metadata": {},
     "output_type": "execute_result"
    }
   ],
   "source": [
    "t_german.shape"
   ]
  },
  {
   "cell_type": "code",
   "execution_count": 67,
   "metadata": {},
   "outputs": [
    {
     "data": {
      "text/html": [
       "<div>\n",
       "<style scoped>\n",
       "    .dataframe tbody tr th:only-of-type {\n",
       "        vertical-align: middle;\n",
       "    }\n",
       "\n",
       "    .dataframe tbody tr th {\n",
       "        vertical-align: top;\n",
       "    }\n",
       "\n",
       "    .dataframe thead th {\n",
       "        text-align: right;\n",
       "    }\n",
       "</style>\n",
       "<table border=\"1\" class=\"dataframe\">\n",
       "  <thead>\n",
       "    <tr style=\"text-align: right;\">\n",
       "      <th></th>\n",
       "      <th>Unnamed: 0</th>\n",
       "      <th>question_title</th>\n",
       "    </tr>\n",
       "  </thead>\n",
       "  <tbody>\n",
       "    <tr>\n",
       "      <th>0</th>\n",
       "      <td>0</td>\n",
       "      <td>What do I lose if I use extension tubes instea...</td>\n",
       "    </tr>\n",
       "    <tr>\n",
       "      <th>1</th>\n",
       "      <td>1</td>\n",
       "      <td>What is the difference between a city and an e...</td>\n",
       "    </tr>\n",
       "    <tr>\n",
       "      <th>2</th>\n",
       "      <td>2</td>\n",
       "      <td>Maximum protruding length for through hole pins</td>\n",
       "    </tr>\n",
       "    <tr>\n",
       "      <th>3</th>\n",
       "      <td>3</td>\n",
       "      <td>Can an affidavit be used in Beit Din?</td>\n",
       "    </tr>\n",
       "    <tr>\n",
       "      <th>4</th>\n",
       "      <td>4</td>\n",
       "      <td>How do I create a binary image in Photoshop?</td>\n",
       "    </tr>\n",
       "  </tbody>\n",
       "</table>\n",
       "</div>"
      ],
      "text/plain": [
       "   Unnamed: 0                                     question_title\n",
       "0           0  What do I lose if I use extension tubes instea...\n",
       "1           1  What is the difference between a city and an e...\n",
       "2           2    Maximum protruding length for through hole pins\n",
       "3           3              Can an affidavit be used in Beit Din?\n",
       "4           4       How do I create a binary image in Photoshop?"
      ]
     },
     "execution_count": 67,
     "metadata": {},
     "output_type": "execute_result"
    }
   ],
   "source": [
    "t_german.head()"
   ]
  },
  {
   "cell_type": "code",
   "execution_count": 68,
   "metadata": {},
   "outputs": [],
   "source": [
    "train['t_german'] = t_german['question_title']"
   ]
  },
  {
   "cell_type": "code",
   "execution_count": 69,
   "metadata": {},
   "outputs": [],
   "source": [
    "b_german = pd.read_excel('train_body_from_german.xlsx')"
   ]
  },
  {
   "cell_type": "code",
   "execution_count": 70,
   "metadata": {},
   "outputs": [
    {
     "name": "stdout",
     "output_type": "stream",
     "text": [
      "5966\n",
      "5967\n",
      "5968\n",
      "5969\n"
     ]
    }
   ],
   "source": [
    "check(b_german)"
   ]
  },
  {
   "cell_type": "code",
   "execution_count": 71,
   "metadata": {},
   "outputs": [
    {
     "data": {
      "text/plain": [
       "(5970, 2)"
      ]
     },
     "execution_count": 71,
     "metadata": {},
     "output_type": "execute_result"
    }
   ],
   "source": [
    "b_german.shape"
   ]
  },
  {
   "cell_type": "code",
   "execution_count": 72,
   "metadata": {},
   "outputs": [],
   "source": [
    "b_german = pd.read_excel('train_body_from_german.xlsx')[:5966]"
   ]
  },
  {
   "cell_type": "code",
   "execution_count": 73,
   "metadata": {},
   "outputs": [
    {
     "name": "stderr",
     "output_type": "stream",
     "text": [
      "/home/leon/anaconda3/envs/leon/lib/python3.7/site-packages/ipykernel_launcher.py:3: SettingWithCopyWarning: \n",
      "A value is trying to be set on a copy of a slice from a DataFrame\n",
      "\n",
      "See the caveats in the documentation: http://pandas.pydata.org/pandas-docs/stable/user_guide/indexing.html#returning-a-view-versus-a-copy\n",
      "  This is separate from the ipykernel package so we can avoid doing imports until\n"
     ]
    }
   ],
   "source": [
    "index = list(b_german['index'])\n",
    "for i in index:\n",
    "    train['b_german'][int(i)] = b_german['question_body'][np.where(b_german['index']==i)[0][0]]"
   ]
  },
  {
   "cell_type": "code",
   "execution_count": 74,
   "metadata": {},
   "outputs": [
    {
     "data": {
      "text/plain": [
       "<bound method NDFrame.head of       qa_id                                     question_title  \\\n",
       "0         0  What am I losing when using extension tubes in...   \n",
       "1         1  What is the distinction between a city and a s...   \n",
       "2         2  Maximum protusion length for through-hole comp...   \n",
       "3         3              Can an affidavit be used in Beit Din?   \n",
       "4         5       How do you make a binary image in Photoshop?   \n",
       "...     ...                                                ...   \n",
       "6074   9642               Using a ski helmet for winter biking   \n",
       "6075   9643  Adjustment to road bike brakes for high grade ...   \n",
       "6076   9645  Suppress 'file truncated' messages when using ...   \n",
       "6077   9646           When should a supervisor be a co-author?   \n",
       "6078   9647  Why are there so many different types of screw...   \n",
       "\n",
       "                                          question_body question_user_name  \\\n",
       "0     After playing around with macro photography on...               ysap   \n",
       "1     I am trying to understand what kinds of places...      russellpierce   \n",
       "2     I'm working on a PCB that has through-hole com...          Joe Baker   \n",
       "3     An affidavit, from what i understand, is basic...         Scimonster   \n",
       "4     I am trying to make a binary image. I want mor...            leigero   \n",
       "...                                                 ...                ...   \n",
       "6074  I am curious if anyone uses a skiing helmet fo...   sixtyfootersdude   \n",
       "6075  I have a road bike with a front brake that wea...                ash   \n",
       "6076  I'm tailing a log file using tail -f messages....    Maneating Koala   \n",
       "6077  What are people's views on this?  To be specif...                MrB   \n",
       "6078  Newbie question.\\n\\nWhy is it that there's a b...            Doug T.   \n",
       "\n",
       "                                     question_user_page  \\\n",
       "0            https://photo.stackexchange.com/users/1024   \n",
       "1              https://rpg.stackexchange.com/users/8774   \n",
       "2     https://electronics.stackexchange.com/users/10157   \n",
       "3          https://judaism.stackexchange.com/users/5151   \n",
       "4     https://graphicdesign.stackexchange.com/users/...   \n",
       "...                                                 ...   \n",
       "6074       https://bicycles.stackexchange.com/users/134   \n",
       "6075     https://bicycles.stackexchange.com/users/14519   \n",
       "6076         https://unix.stackexchange.com/users/60445   \n",
       "6077                https://mathoverflow.net/users/2189   \n",
       "6078            https://diy.stackexchange.com/users/321   \n",
       "\n",
       "                                                 answer answer_user_name  \\\n",
       "0     I just got extension tubes, so here's the skin...           rfusca   \n",
       "1     It might be helpful to look into the definitio...     Erik Schmidt   \n",
       "2     Do you even need grooves?  We make several pro...      Dwayne Reid   \n",
       "3     Sending an \"affidavit\" it is a dispute between...    Y     e     z   \n",
       "4     Check out Image Trace in Adobe Illustrator. \\n...             q2ra   \n",
       "...                                                 ...              ...   \n",
       "6074  If you're thinking about wearing a ski helmet ...         Matt Leo   \n",
       "6075  \\nYou can replace the pads (as stated elsewher...   Daniel R Hicks   \n",
       "6076  Maybe help if can be fixes origin of this erro...         BG Bruno   \n",
       "6077  As a non-mathematician, I am somewhat mystifie...           angela   \n",
       "6078  First, I really like Eric's answer for practic...         Scivitri   \n",
       "\n",
       "                                       answer_user_page  \\\n",
       "0            https://photo.stackexchange.com/users/1917   \n",
       "1              https://rpg.stackexchange.com/users/1871   \n",
       "2     https://electronics.stackexchange.com/users/64754   \n",
       "3          https://judaism.stackexchange.com/users/4794   \n",
       "4     https://graphicdesign.stackexchange.com/users/...   \n",
       "...                                                 ...   \n",
       "6074      https://bicycles.stackexchange.com/users/3340   \n",
       "6075      https://bicycles.stackexchange.com/users/1584   \n",
       "6076         https://unix.stackexchange.com/users/68208   \n",
       "6077                https://mathoverflow.net/users/4267   \n",
       "6078            https://diy.stackexchange.com/users/113   \n",
       "\n",
       "                                                    url    category  ...  \\\n",
       "0     http://photo.stackexchange.com/questions/9169/...   LIFE_ARTS  ...   \n",
       "1     http://rpg.stackexchange.com/questions/47820/w...     CULTURE  ...   \n",
       "2     http://electronics.stackexchange.com/questions...     SCIENCE  ...   \n",
       "3     http://judaism.stackexchange.com/questions/551...     CULTURE  ...   \n",
       "4     http://graphicdesign.stackexchange.com/questio...   LIFE_ARTS  ...   \n",
       "...                                                 ...         ...  ...   \n",
       "6074  http://bicycles.stackexchange.com/questions/99...     CULTURE  ...   \n",
       "6075  http://bicycles.stackexchange.com/questions/25...     CULTURE  ...   \n",
       "6076  http://unix.stackexchange.com/questions/169054...  TECHNOLOGY  ...   \n",
       "6077            http://mathoverflow.net/questions/57337     SCIENCE  ...   \n",
       "6078  http://diy.stackexchange.com/questions/2701/wh...   LIFE_ARTS  ...   \n",
       "\n",
       "     answer_well_written                                          a_chinese  \\\n",
       "0               1.000000  I only have extension tubes, so it's thin here...   \n",
       "1               0.888889  It may be helpful to study the definition of a...   \n",
       "2               0.888889  Do you even need grooves? We use through-hole ...   \n",
       "3               1.000000  Sending the \"affidavit\" was a dispute between ...   \n",
       "4               1.000000  Check out Image Trace in Adobe Illustrator. I ...   \n",
       "...                  ...                                                ...   \n",
       "6074            0.888889  If you want to ride a ski helmet, the worthy S...   \n",
       "6075            0.888889  \\nYou can replace the pads (as stated elsewher...   \n",
       "6076            0.555556  Perhaps the root cause of this error can be re...   \n",
       "6077            1.000000  As a non-mathematician, I understand the gener...   \n",
       "6078            1.000000  First, for practical reasons, I really like Er...   \n",
       "\n",
       "                                              t_chinese  \\\n",
       "0     What do I lose when using an extension tube in...   \n",
       "1     What is the difference between a city and a sp...   \n",
       "2     Maximum protruding length of through-hole asse...   \n",
       "3                           Can Batetin use affidavits?   \n",
       "4           How do you make binary images in Photoshop?   \n",
       "...                                                 ...   \n",
       "6074                      Winter riding with ski helmet   \n",
       "6075            Adjust road bike brakes for high grades   \n",
       "6076  Suppress \"file truncated\" message when using tail   \n",
       "6077           When should a supervisor be a co-author?   \n",
       "6078  Why are there so many different types of screw...   \n",
       "\n",
       "                                              b_chinese  \\\n",
       "0     After playing great value macro photography (r...   \n",
       "1     I'm trying to understand where the spam value ...   \n",
       "2     I am working on a PCB with through-hole compon...   \n",
       "3     As far as I know, the affidavit is basically a...   \n",
       "4     I am trying to make a binary image. Not only d...   \n",
       "...                                                 ...   \n",
       "6074  I'm curious if anyone uses ski helmets for win...   \n",
       "6075  I have a road bike with front brakes that wear...   \n",
       "6076  I'm using tail -f messages.log to tail log fil...   \n",
       "6077  What do people think about this? Specifically:...   \n",
       "6078  Novice question. Why are there thousands of di...   \n",
       "\n",
       "                                               a_french  \\\n",
       "0     I just received extension tubes, so here is th...   \n",
       "1     It might be useful to examine the definition o...   \n",
       "2     Do you even need grooves? We manufacture sever...   \n",
       "3     The sending of an “affidavit” is a dispute bet...   \n",
       "4     Discover Image Trace in Adobe Illustrator. How...   \n",
       "...                                                 ...   \n",
       "6074  If you're thinking about wearing a ski helmet ...   \n",
       "6075  \\nYou can replace the pads (as stated elsewher...   \n",
       "6076  Maybe help if the cause of this error can be c...   \n",
       "6077  As a non-mathematician, I am somewhat mystifie...   \n",
       "6078  First of all, I really like Eric's answer for ...   \n",
       "\n",
       "                                               t_french  \\\n",
       "0     What do I lose when I use extension tubes inst...   \n",
       "1     What is the distinction between a city and a s...   \n",
       "2     Maximum protrusion length for pins of through ...   \n",
       "3                 Can an affidavit be used at Beit Din?   \n",
       "4            How to create a binary image in Photoshop?   \n",
       "...                                                 ...   \n",
       "6074                Use a ski helmet for winter cycling   \n",
       "6075  Road bike brake adjustment for high quality de...   \n",
       "6076  Suppress \"truncated file\" messages when using ...   \n",
       "6077           When should a supervisor be a co-author?   \n",
       "6078  Why are there so many different types of screw...   \n",
       "\n",
       "                                               b_french  \\\n",
       "0     After playing with low-cost macro photography ...   \n",
       "1     I'm trying to understand what types of places ...   \n",
       "2     I am working on a PCB which has through compon...   \n",
       "3     An affidavit, as I understand it, is basically...   \n",
       "4     I am trying to make a binary image. I want mor...   \n",
       "...                                                 ...   \n",
       "6074  I'm curious if someone uses a ski helmet for w...   \n",
       "6075  I have a road bike with a front brake that car...   \n",
       "6076  I use a log file using tail -f messages.log an...   \n",
       "6077  What are people's opinions on this? To be prec...   \n",
       "6078  Question for beginners: why are there a billio...   \n",
       "\n",
       "                                               a_german  \\\n",
       "0     I just got extension tubes, so here is the thi...   \n",
       "1     It can be helpful to check the definition of t...   \n",
       "2     Do you need grooves at all? We manufacture var...   \n",
       "3     Sending an \"affidavit\" is a dispute between Ra...   \n",
       "4     Try Image Trace in Adobe Illustrator. I like t...   \n",
       "...                                                 ...   \n",
       "6074  If you're thinking about wearing a ski helmet ...   \n",
       "6075  \\nYou can replace the pads (as stated elsewher...   \n",
       "6076  Maybe help if corrections can be the origin of...   \n",
       "6077  As a non-mathematician, I am somewhat mystifie...   \n",
       "6078  First, I really like Eric's answer for practic...   \n",
       "\n",
       "                                               t_german  \\\n",
       "0     What do I lose if I use extension tubes instea...   \n",
       "1     What is the difference between a city and an e...   \n",
       "2       Maximum protruding length for through hole pins   \n",
       "3                 Can an affidavit be used in Beit Din?   \n",
       "4          How do I create a binary image in Photoshop?   \n",
       "...                                                 ...   \n",
       "6074              Use of a ski helmet for winter biking   \n",
       "6075  Adaptation to road bike brakes for high-grade ...   \n",
       "6076  Suppress \"file truncated\" messages when using ...   \n",
       "6077           When should a supervisor be a co-author?   \n",
       "6078  Why are there so many different types of screw...   \n",
       "\n",
       "                                               b_german  \n",
       "0     After the cheap messing around with macro phot...  \n",
       "1     I am trying to understand what types of places...  \n",
       "2     I am working on a circuit board that has pass-...  \n",
       "3     As far as I know, an affidavit is basically a ...  \n",
       "4     I'm trying to make a binary picture. I want mo...  \n",
       "...                                                 ...  \n",
       "6074  I'm curious to see if someone uses a ski helme...  \n",
       "6075  I have a road bike with a front brake that car...  \n",
       "6076  I tailing a log file tail -f with messages.log...  \n",
       "6077  What do people say about it? To be precise, le...  \n",
       "6078                                   Newbie question.  \n",
       "\n",
       "[6079 rows x 50 columns]>"
      ]
     },
     "execution_count": 74,
     "metadata": {},
     "output_type": "execute_result"
    }
   ],
   "source": [
    "train.head"
   ]
  },
  {
   "cell_type": "code",
   "execution_count": 75,
   "metadata": {},
   "outputs": [],
   "source": [
    "train.to_csv('train_aug.csv')"
   ]
  },
  {
   "cell_type": "code",
   "execution_count": null,
   "metadata": {},
   "outputs": [],
   "source": []
  }
 ],
 "metadata": {
  "kernelspec": {
   "display_name": "Python 3",
   "language": "python",
   "name": "python3"
  },
  "language_info": {
   "codemirror_mode": {
    "name": "ipython",
    "version": 3
   },
   "file_extension": ".py",
   "mimetype": "text/x-python",
   "name": "python",
   "nbconvert_exporter": "python",
   "pygments_lexer": "ipython3",
   "version": "3.7.4"
  }
 },
 "nbformat": 4,
 "nbformat_minor": 2
}
